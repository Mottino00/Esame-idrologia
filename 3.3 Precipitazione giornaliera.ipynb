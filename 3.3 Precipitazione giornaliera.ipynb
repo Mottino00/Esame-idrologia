{
 "cells": [
  {
   "cell_type": "markdown",
   "id": "405ced42-5812-4d5d-8dc4-fe10190185c3",
   "metadata": {},
   "source": [
    "### 3.3 Evento di precipitazione giornaliero"
   ]
  },
  {
   "cell_type": "markdown",
   "id": "c90dd621-5b0a-4277-973e-7edfb8d4ae35",
   "metadata": {},
   "source": [
    "Si analizza il fenomeno dell'infiltrazione in una colonna di suolo considerando le precipitazioni sviluppatosi nell'arco temporale compreso tra il 09/09/2014 e il 12/09/2014 prendendo in considerazione i dati pluviometrici della stazione di Borgo Virgilio (MN). "
   ]
  },
  {
   "cell_type": "markdown",
   "id": "aa71e6e6-10a2-4e6c-b474-fa06db3045b5",
   "metadata": {},
   "source": [
    "#### **Definizione della griglia**"
   ]
  },
  {
   "cell_type": "markdown",
   "id": "b341a970-6909-4827-8d7e-ce98769baee3",
   "metadata": {},
   "source": [
    "**- grid_input_file_name** :  `/data/Grid_input/dati_colonna4_VG.csv`\n",
    "\n",
    "**- ic_input_file_name** :  `/data/Grid_input/dati_colonna4_IC.csv`\n",
    "\n",
    "**- parameter_input_file_name** : `/data/Grid_input/Richards_VG.csv`\n",
    "\n",
    "**- grid_type** : `classical`\n",
    "\n",
    "**- psi_interp_model** : `linear`\n",
    "\n",
    "**- T_interp_model** : `linear`\n",
    "\n",
    "**- output_file_name** : `/data/Grid_NetCDF/colonna4_Grid_1.nc`\n",
    "\n",
    "---"
   ]
  },
  {
   "cell_type": "markdown",
   "id": "19b96697-de74-4e96-9461-b459887d61ed",
   "metadata": {},
   "source": [
    "#### **Creazione della griglia**"
   ]
  },
  {
   "cell_type": "code",
   "execution_count": 1,
   "id": "7fd49ac9-ec0a-462c-8b19-463a8402b5a9",
   "metadata": {},
   "outputs": [],
   "source": [
    "import os\n",
    "import pandas as pd\n",
    "from geoframepy.whetgeo1d import grid_creator\n",
    "from geoframepy.whetgeo1d import grid_to_netcdf\n",
    "import warnings\n",
    "warnings.filterwarnings('ignore')\n",
    "\n",
    "project_path = os.path.dirname(os.getcwd())\n",
    "\n",
    "grid_input_file_name = project_path + \"/data/Grid_input/dati_colonna4_VG.csv\"\n",
    "ic_input_file_name = project_path + \"/data/Grid_input/dati_colonna4_IC.csv\"\n",
    "parameter_input_file_name = project_path + \"/data/Grid_input/Richards_VG.csv\"\n",
    "dictionary_input_file_name = project_path + \"/data/Grid_input/dictionary.csv\"\n",
    "grid_type = 'classical'\n",
    "\n",
    "dz_min = -9999\n",
    "dz_max = -9999 \n",
    "b = -9999 \n",
    "\n",
    "psi_interp_model = \"linear\"\n",
    "T_interp_model = \"linear\"\n",
    "water_ponding_0 = -1.5\n",
    "T_water_ponding_0 = 278.15\n",
    "\n",
    "output_file_name =  project_path + \"/data/Grid_NetCDF/colonna4_Grid_1.nc\"\n",
    "output_title = '''Griglia di calcolo per colonna 4 simulazione 1.\n",
    "                  '''\n",
    "output_summary = '''\n",
    "\n",
    "'''\n",
    "output_date = ''\n",
    "output_institution = 'GEOframe'"
   ]
  },
  {
   "cell_type": "code",
   "execution_count": 2,
   "id": "cfec585a-f380-4cbb-904b-629c41621f54",
   "metadata": {},
   "outputs": [
    {
     "name": "stdout",
     "output_type": "stream",
     "text": [
      "\n",
      "\n",
      "***SUCCESS writing!  C:\\Users\\User\\Desktop\\OMS_Project_WHETGEO1D_Idrologia_ay_21_22/data/Grid_NetCDF/colonna4_Grid_1.nc\n"
     ]
    }
   ],
   "source": [
    "data_grid = pd.read_csv(grid_input_file_name)\n",
    "data_ic = pd.read_csv(ic_input_file_name)\n",
    "data_parameter = pd.read_csv(parameter_input_file_name, comment='#')\n",
    "data_dictionary = pd.read_csv(dictionary_input_file_name)\n",
    "\n",
    "[KMAX, eta, eta_dual, space_delta, z, z_dual, control_volume] = grid_creator.grid1D(data_grid, dz_min, b, dz_max, grid_type, shallow_water=False)\n",
    "\n",
    "[psi_0, T_0] = grid_creator.set_initial_condition(data_ic, eta, psi_interp_model, T_interp_model, shallow_water=False)\n",
    "\n",
    "control_volume_index = grid_creator.calibration_point_index(data_grid, eta)\n",
    "\n",
    "[equation_state_ID, parameter_ID, theta_s, theta_r, par_1, par_2, par_3, par_4,\n",
    "par_5, alpha_ss, beta_ss, ks] = grid_creator.set_parameters_richards(data_grid, data_parameter, data_dictionary, KMAX, eta)\n",
    "\n",
    "grid_to_netcdf.write_grid_netCDF_richards(eta, eta_dual, z, z_dual, space_delta, control_volume, control_volume_index, psi_0, T_0, equation_state_ID, parameter_ID, KMAX,\n",
    "                  theta_s, theta_r, par_1, par_2, par_3, par_4, par_5, alpha_ss, beta_ss, ks,\n",
    "                  output_file_name, output_title, output_summary, output_date, output_institution, grid_input_file_name, parameter_input_file_name)"
   ]
  },
  {
   "cell_type": "markdown",
   "id": "0e8948ae-c253-44fa-bd8b-b2413a8bb7b2",
   "metadata": {},
   "source": [
    "#### **Definizione dei parametri e delle condizioni al contorno**"
   ]
  },
  {
   "cell_type": "markdown",
   "id": "092f3875-5da0-4837-bc82-440941d56ed3",
   "metadata": {},
   "source": [
    "Dopo aver creato il file netCDF relativo alla griglia, si prosegue con la simulazione utilizzando il simfile WHETGEO1D_sim3.sim, che permette di risolvere il problema di Richards. In tale file sono stati utilizzati i seguenti parametri :\n",
    "\n",
    "- parametrizzazione della SWRC : **Van Genuchten**\n",
    "- condizione al contorno sulla superficie : **Coupled**\n",
    "- condizione al contorno al fondo : **Dirichlet**\n",
    "- modello che tiene conto della temperatura del suolo: **Ronan1998**\n",
    "- data d'inizio della simulazione : **09/09/2014 18:00**\n",
    "- data di fine della simulazione : **12/09/2014 06:00**\n",
    "- timestep : **60 (ogni ora)**\n",
    "\n",
    "---"
   ]
  },
  {
   "cell_type": "markdown",
   "id": "55ff6101-679d-4963-8f14-74f67758f0eb",
   "metadata": {},
   "source": [
    "#### **Post-processing**"
   ]
  },
  {
   "cell_type": "markdown",
   "id": "57fe8d73-bd0a-461d-b489-bc6321ff7fa4",
   "metadata": {},
   "source": [
    "#### Librerie"
   ]
  },
  {
   "cell_type": "code",
   "execution_count": 18,
   "id": "753c0ada-43b7-49ac-9601-af37e152e0c4",
   "metadata": {},
   "outputs": [],
   "source": [
    "import xarray as xr\n",
    "import numpy as np\n",
    "import matplotlib.pyplot as plt\n",
    "from matplotlib import rc\n",
    "import matplotlib.style as style \n",
    "import matplotlib.colors as cl\n",
    "import matplotlib.dates as mdates\n",
    "import matplotlib\n",
    "%matplotlib inline\n",
    "\n",
    "import warnings\n",
    "warnings.filterwarnings('ignore')\n",
    "\n",
    "style.available\n",
    "style.use('seaborn-whitegrid')\n",
    "\n",
    "nice_fonts = {\n",
    "        \"legend.frameon\": True,\n",
    "        \"legend.fancybox\": True,\n",
    "        \"legend.facecolor\": \"white\",\n",
    "        \"axes.edgecolor\": \"0.8\",\n",
    "        \"axes.linewidth\": 0.6,\n",
    "        \"grid.linewidth\":0.4,\n",
    "        \"text.usetex\": False,\n",
    "        \"font.family\": \"serif\",\n",
    "        \"axes.labelsize\": 16,\n",
    "        \"font.size\": 17,\n",
    "        \"legend.fontsize\": 16,\n",
    "        \"xtick.labelsize\": 16,\n",
    "        \"ytick.labelsize\": 16,\n",
    "}\n",
    "\n",
    "my_cmap = matplotlib.colors.LinearSegmentedColormap.from_list(\"\", ['#ffffd9','#edf8b1','#c7e9b4','#7fcdbb','#41b6c4','#1d91c0','#225ea8','#253494','#081d58'])\n",
    "colors = ['#e41a1c','#377eb8','#4daf4a','#984ea3','#ff7f00','#ffff33','#a65628']\n",
    "plt.rcParams.update(nice_fonts)"
   ]
  },
  {
   "cell_type": "markdown",
   "id": "f589a273-367e-4dc4-b304-4f992680e868",
   "metadata": {},
   "source": [
    "#### Visualizzazione del file di output"
   ]
  },
  {
   "cell_type": "code",
   "execution_count": 19,
   "id": "9f705435-c9dc-4ae0-accd-ec22566d40f7",
   "metadata": {
    "tags": []
   },
   "outputs": [
    {
     "data": {
      "text/html": [
       "<div><svg style=\"position: absolute; width: 0; height: 0; overflow: hidden\">\n",
       "<defs>\n",
       "<symbol id=\"icon-database\" viewBox=\"0 0 32 32\">\n",
       "<path d=\"M16 0c-8.837 0-16 2.239-16 5v4c0 2.761 7.163 5 16 5s16-2.239 16-5v-4c0-2.761-7.163-5-16-5z\"></path>\n",
       "<path d=\"M16 17c-8.837 0-16-2.239-16-5v6c0 2.761 7.163 5 16 5s16-2.239 16-5v-6c0 2.761-7.163 5-16 5z\"></path>\n",
       "<path d=\"M16 26c-8.837 0-16-2.239-16-5v6c0 2.761 7.163 5 16 5s16-2.239 16-5v-6c0 2.761-7.163 5-16 5z\"></path>\n",
       "</symbol>\n",
       "<symbol id=\"icon-file-text2\" viewBox=\"0 0 32 32\">\n",
       "<path d=\"M28.681 7.159c-0.694-0.947-1.662-2.053-2.724-3.116s-2.169-2.030-3.116-2.724c-1.612-1.182-2.393-1.319-2.841-1.319h-15.5c-1.378 0-2.5 1.121-2.5 2.5v27c0 1.378 1.122 2.5 2.5 2.5h23c1.378 0 2.5-1.122 2.5-2.5v-19.5c0-0.448-0.137-1.23-1.319-2.841zM24.543 5.457c0.959 0.959 1.712 1.825 2.268 2.543h-4.811v-4.811c0.718 0.556 1.584 1.309 2.543 2.268zM28 29.5c0 0.271-0.229 0.5-0.5 0.5h-23c-0.271 0-0.5-0.229-0.5-0.5v-27c0-0.271 0.229-0.5 0.5-0.5 0 0 15.499-0 15.5 0v7c0 0.552 0.448 1 1 1h7v19.5z\"></path>\n",
       "<path d=\"M23 26h-14c-0.552 0-1-0.448-1-1s0.448-1 1-1h14c0.552 0 1 0.448 1 1s-0.448 1-1 1z\"></path>\n",
       "<path d=\"M23 22h-14c-0.552 0-1-0.448-1-1s0.448-1 1-1h14c0.552 0 1 0.448 1 1s-0.448 1-1 1z\"></path>\n",
       "<path d=\"M23 18h-14c-0.552 0-1-0.448-1-1s0.448-1 1-1h14c0.552 0 1 0.448 1 1s-0.448 1-1 1z\"></path>\n",
       "</symbol>\n",
       "</defs>\n",
       "</svg>\n",
       "<style>/* CSS stylesheet for displaying xarray objects in jupyterlab.\n",
       " *\n",
       " */\n",
       "\n",
       ":root {\n",
       "  --xr-font-color0: var(--jp-content-font-color0, rgba(0, 0, 0, 1));\n",
       "  --xr-font-color2: var(--jp-content-font-color2, rgba(0, 0, 0, 0.54));\n",
       "  --xr-font-color3: var(--jp-content-font-color3, rgba(0, 0, 0, 0.38));\n",
       "  --xr-border-color: var(--jp-border-color2, #e0e0e0);\n",
       "  --xr-disabled-color: var(--jp-layout-color3, #bdbdbd);\n",
       "  --xr-background-color: var(--jp-layout-color0, white);\n",
       "  --xr-background-color-row-even: var(--jp-layout-color1, white);\n",
       "  --xr-background-color-row-odd: var(--jp-layout-color2, #eeeeee);\n",
       "}\n",
       "\n",
       "html[theme=dark],\n",
       "body.vscode-dark {\n",
       "  --xr-font-color0: rgba(255, 255, 255, 1);\n",
       "  --xr-font-color2: rgba(255, 255, 255, 0.54);\n",
       "  --xr-font-color3: rgba(255, 255, 255, 0.38);\n",
       "  --xr-border-color: #1F1F1F;\n",
       "  --xr-disabled-color: #515151;\n",
       "  --xr-background-color: #111111;\n",
       "  --xr-background-color-row-even: #111111;\n",
       "  --xr-background-color-row-odd: #313131;\n",
       "}\n",
       "\n",
       ".xr-wrap {\n",
       "  display: block !important;\n",
       "  min-width: 300px;\n",
       "  max-width: 700px;\n",
       "}\n",
       "\n",
       ".xr-text-repr-fallback {\n",
       "  /* fallback to plain text repr when CSS is not injected (untrusted notebook) */\n",
       "  display: none;\n",
       "}\n",
       "\n",
       ".xr-header {\n",
       "  padding-top: 6px;\n",
       "  padding-bottom: 6px;\n",
       "  margin-bottom: 4px;\n",
       "  border-bottom: solid 1px var(--xr-border-color);\n",
       "}\n",
       "\n",
       ".xr-header > div,\n",
       ".xr-header > ul {\n",
       "  display: inline;\n",
       "  margin-top: 0;\n",
       "  margin-bottom: 0;\n",
       "}\n",
       "\n",
       ".xr-obj-type,\n",
       ".xr-array-name {\n",
       "  margin-left: 2px;\n",
       "  margin-right: 10px;\n",
       "}\n",
       "\n",
       ".xr-obj-type {\n",
       "  color: var(--xr-font-color2);\n",
       "}\n",
       "\n",
       ".xr-sections {\n",
       "  padding-left: 0 !important;\n",
       "  display: grid;\n",
       "  grid-template-columns: 150px auto auto 1fr 20px 20px;\n",
       "}\n",
       "\n",
       ".xr-section-item {\n",
       "  display: contents;\n",
       "}\n",
       "\n",
       ".xr-section-item input {\n",
       "  display: none;\n",
       "}\n",
       "\n",
       ".xr-section-item input + label {\n",
       "  color: var(--xr-disabled-color);\n",
       "}\n",
       "\n",
       ".xr-section-item input:enabled + label {\n",
       "  cursor: pointer;\n",
       "  color: var(--xr-font-color2);\n",
       "}\n",
       "\n",
       ".xr-section-item input:enabled + label:hover {\n",
       "  color: var(--xr-font-color0);\n",
       "}\n",
       "\n",
       ".xr-section-summary {\n",
       "  grid-column: 1;\n",
       "  color: var(--xr-font-color2);\n",
       "  font-weight: 500;\n",
       "}\n",
       "\n",
       ".xr-section-summary > span {\n",
       "  display: inline-block;\n",
       "  padding-left: 0.5em;\n",
       "}\n",
       "\n",
       ".xr-section-summary-in:disabled + label {\n",
       "  color: var(--xr-font-color2);\n",
       "}\n",
       "\n",
       ".xr-section-summary-in + label:before {\n",
       "  display: inline-block;\n",
       "  content: '►';\n",
       "  font-size: 11px;\n",
       "  width: 15px;\n",
       "  text-align: center;\n",
       "}\n",
       "\n",
       ".xr-section-summary-in:disabled + label:before {\n",
       "  color: var(--xr-disabled-color);\n",
       "}\n",
       "\n",
       ".xr-section-summary-in:checked + label:before {\n",
       "  content: '▼';\n",
       "}\n",
       "\n",
       ".xr-section-summary-in:checked + label > span {\n",
       "  display: none;\n",
       "}\n",
       "\n",
       ".xr-section-summary,\n",
       ".xr-section-inline-details {\n",
       "  padding-top: 4px;\n",
       "  padding-bottom: 4px;\n",
       "}\n",
       "\n",
       ".xr-section-inline-details {\n",
       "  grid-column: 2 / -1;\n",
       "}\n",
       "\n",
       ".xr-section-details {\n",
       "  display: none;\n",
       "  grid-column: 1 / -1;\n",
       "  margin-bottom: 5px;\n",
       "}\n",
       "\n",
       ".xr-section-summary-in:checked ~ .xr-section-details {\n",
       "  display: contents;\n",
       "}\n",
       "\n",
       ".xr-array-wrap {\n",
       "  grid-column: 1 / -1;\n",
       "  display: grid;\n",
       "  grid-template-columns: 20px auto;\n",
       "}\n",
       "\n",
       ".xr-array-wrap > label {\n",
       "  grid-column: 1;\n",
       "  vertical-align: top;\n",
       "}\n",
       "\n",
       ".xr-preview {\n",
       "  color: var(--xr-font-color3);\n",
       "}\n",
       "\n",
       ".xr-array-preview,\n",
       ".xr-array-data {\n",
       "  padding: 0 5px !important;\n",
       "  grid-column: 2;\n",
       "}\n",
       "\n",
       ".xr-array-data,\n",
       ".xr-array-in:checked ~ .xr-array-preview {\n",
       "  display: none;\n",
       "}\n",
       "\n",
       ".xr-array-in:checked ~ .xr-array-data,\n",
       ".xr-array-preview {\n",
       "  display: inline-block;\n",
       "}\n",
       "\n",
       ".xr-dim-list {\n",
       "  display: inline-block !important;\n",
       "  list-style: none;\n",
       "  padding: 0 !important;\n",
       "  margin: 0;\n",
       "}\n",
       "\n",
       ".xr-dim-list li {\n",
       "  display: inline-block;\n",
       "  padding: 0;\n",
       "  margin: 0;\n",
       "}\n",
       "\n",
       ".xr-dim-list:before {\n",
       "  content: '(';\n",
       "}\n",
       "\n",
       ".xr-dim-list:after {\n",
       "  content: ')';\n",
       "}\n",
       "\n",
       ".xr-dim-list li:not(:last-child):after {\n",
       "  content: ',';\n",
       "  padding-right: 5px;\n",
       "}\n",
       "\n",
       ".xr-has-index {\n",
       "  font-weight: bold;\n",
       "}\n",
       "\n",
       ".xr-var-list,\n",
       ".xr-var-item {\n",
       "  display: contents;\n",
       "}\n",
       "\n",
       ".xr-var-item > div,\n",
       ".xr-var-item label,\n",
       ".xr-var-item > .xr-var-name span {\n",
       "  background-color: var(--xr-background-color-row-even);\n",
       "  margin-bottom: 0;\n",
       "}\n",
       "\n",
       ".xr-var-item > .xr-var-name:hover span {\n",
       "  padding-right: 5px;\n",
       "}\n",
       "\n",
       ".xr-var-list > li:nth-child(odd) > div,\n",
       ".xr-var-list > li:nth-child(odd) > label,\n",
       ".xr-var-list > li:nth-child(odd) > .xr-var-name span {\n",
       "  background-color: var(--xr-background-color-row-odd);\n",
       "}\n",
       "\n",
       ".xr-var-name {\n",
       "  grid-column: 1;\n",
       "}\n",
       "\n",
       ".xr-var-dims {\n",
       "  grid-column: 2;\n",
       "}\n",
       "\n",
       ".xr-var-dtype {\n",
       "  grid-column: 3;\n",
       "  text-align: right;\n",
       "  color: var(--xr-font-color2);\n",
       "}\n",
       "\n",
       ".xr-var-preview {\n",
       "  grid-column: 4;\n",
       "}\n",
       "\n",
       ".xr-var-name,\n",
       ".xr-var-dims,\n",
       ".xr-var-dtype,\n",
       ".xr-preview,\n",
       ".xr-attrs dt {\n",
       "  white-space: nowrap;\n",
       "  overflow: hidden;\n",
       "  text-overflow: ellipsis;\n",
       "  padding-right: 10px;\n",
       "}\n",
       "\n",
       ".xr-var-name:hover,\n",
       ".xr-var-dims:hover,\n",
       ".xr-var-dtype:hover,\n",
       ".xr-attrs dt:hover {\n",
       "  overflow: visible;\n",
       "  width: auto;\n",
       "  z-index: 1;\n",
       "}\n",
       "\n",
       ".xr-var-attrs,\n",
       ".xr-var-data {\n",
       "  display: none;\n",
       "  background-color: var(--xr-background-color) !important;\n",
       "  padding-bottom: 5px !important;\n",
       "}\n",
       "\n",
       ".xr-var-attrs-in:checked ~ .xr-var-attrs,\n",
       ".xr-var-data-in:checked ~ .xr-var-data {\n",
       "  display: block;\n",
       "}\n",
       "\n",
       ".xr-var-data > table {\n",
       "  float: right;\n",
       "}\n",
       "\n",
       ".xr-var-name span,\n",
       ".xr-var-data,\n",
       ".xr-attrs {\n",
       "  padding-left: 25px !important;\n",
       "}\n",
       "\n",
       ".xr-attrs,\n",
       ".xr-var-attrs,\n",
       ".xr-var-data {\n",
       "  grid-column: 1 / -1;\n",
       "}\n",
       "\n",
       "dl.xr-attrs {\n",
       "  padding: 0;\n",
       "  margin: 0;\n",
       "  display: grid;\n",
       "  grid-template-columns: 125px auto;\n",
       "}\n",
       "\n",
       ".xr-attrs dt,\n",
       ".xr-attrs dd {\n",
       "  padding: 0;\n",
       "  margin: 0;\n",
       "  float: left;\n",
       "  padding-right: 10px;\n",
       "  width: auto;\n",
       "}\n",
       "\n",
       ".xr-attrs dt {\n",
       "  font-weight: normal;\n",
       "  grid-column: 1;\n",
       "}\n",
       "\n",
       ".xr-attrs dt:hover span {\n",
       "  display: inline-block;\n",
       "  background: var(--xr-background-color);\n",
       "  padding-right: 10px;\n",
       "}\n",
       "\n",
       ".xr-attrs dd {\n",
       "  grid-column: 2;\n",
       "  white-space: pre-wrap;\n",
       "  word-break: break-all;\n",
       "}\n",
       "\n",
       ".xr-icon-database,\n",
       ".xr-icon-file-text2 {\n",
       "  display: inline-block;\n",
       "  vertical-align: middle;\n",
       "  width: 1em;\n",
       "  height: 1.5em !important;\n",
       "  stroke-width: 0;\n",
       "  stroke: currentColor;\n",
       "  fill: currentColor;\n",
       "}\n",
       "</style><pre class='xr-text-repr-fallback'>&lt;xarray.Dataset&gt;\n",
       "Dimensions:           (depth: 150, dualDepth: 150, time: 61)\n",
       "Coordinates:\n",
       "  * depth             (depth) float64 -1.495 -1.485 -1.475 ... -0.015 -0.005\n",
       "  * dualDepth         (dualDepth) float64 -1.5 -1.49 -1.48 ... -0.03 -0.02 -0.01\n",
       "  * time              (time) datetime64[ns] 2014-09-09T18:00:00 ... 2014-09-1...\n",
       "Data variables:\n",
       "    psi               (time, depth) float64 -3.005 -3.015 ... -0.2263 -0.2343\n",
       "    psiIC             (depth) float64 -3.005 -3.015 -3.025 ... -4.485 -4.495\n",
       "    T                 (depth) float64 287.1 287.1 287.0 ... 278.3 278.2 278.2\n",
       "    theta             (time, depth) float64 0.3269 0.3268 ... 0.1466 0.143\n",
       "    saturationDegree  (time, depth) float64 0.6977 0.6973 ... 0.2537 0.2436\n",
       "    darcyVelocity     (time, dualDepth) float64 -0.0 -3.045e-24 ... -8.543e-09\n",
       "    waterVolume       (time, depth) float64 0.003269 0.003268 ... 0.00143\n",
       "    error             (time) float64 0.0 0.0 0.0 ... -3.076e-12 -3.286e-12\n",
       "    topBC             (time) float64 0.0 0.0 0.0 25.8 2.8 ... 0.0 0.0 0.0 0.0\n",
       "    bottomBC          (time) float64 -3.0 -3.0 -3.0 -3.0 ... -3.0 -3.0 -3.0 -3.0\n",
       "    runOff            (time) float64 0.0 0.0 0.0 0.0 0.0 ... 0.0 0.0 0.0 0.0 0.0\n",
       "    controlVolume     (depth) float64 0.01 0.01 0.01 0.01 ... 0.01 0.01 0.01\n",
       "Attributes:\n",
       "    Description_of_the_problem:         WHETGEO-1D sim3.\n",
       "    Top_boundary_condition:             Top Coupled\n",
       "    Bottom_boundary_condition:          Bottom Dirichlet\n",
       "    path_top_boundary_condition:        C:\\Users\\User\\Desktop\\OMS_Project_WHE...\n",
       "    path_bottom_boundary_condition:     C:\\Users\\User\\Desktop\\OMS_Project_WHE...\n",
       "    path_grid:                          C:\\Users\\User\\Desktop\\OMS_Project_WHE...\n",
       "    time_delta:                          \n",
       "    swrc_model:                         {Van Genuchten}\n",
       "    soil_hydraulic_conductivity_model:  {Mualem Van Genuchten}\n",
       "    interface_conductivity_model:       max</pre><div class='xr-wrap' style='display:none'><div class='xr-header'><div class='xr-obj-type'>xarray.Dataset</div></div><ul class='xr-sections'><li class='xr-section-item'><input id='section-0ef3a29c-96ff-4e86-a984-3be5dd738af1' class='xr-section-summary-in' type='checkbox' disabled ><label for='section-0ef3a29c-96ff-4e86-a984-3be5dd738af1' class='xr-section-summary'  title='Expand/collapse section'>Dimensions:</label><div class='xr-section-inline-details'><ul class='xr-dim-list'><li><span class='xr-has-index'>depth</span>: 150</li><li><span class='xr-has-index'>dualDepth</span>: 150</li><li><span class='xr-has-index'>time</span>: 61</li></ul></div><div class='xr-section-details'></div></li><li class='xr-section-item'><input id='section-0e565561-6a6b-4e85-9f0e-48fe21d5fe4a' class='xr-section-summary-in' type='checkbox'  checked><label for='section-0e565561-6a6b-4e85-9f0e-48fe21d5fe4a' class='xr-section-summary' >Coordinates: <span>(3)</span></label><div class='xr-section-inline-details'></div><div class='xr-section-details'><ul class='xr-var-list'><li class='xr-var-item'><div class='xr-var-name'><span class='xr-has-index'>depth</span></div><div class='xr-var-dims'>(depth)</div><div class='xr-var-dtype'>float64</div><div class='xr-var-preview xr-preview'>-1.495 -1.485 ... -0.015 -0.005</div><input id='attrs-4f6226de-6780-46fe-9d38-6f687051f9f6' class='xr-var-attrs-in' type='checkbox' ><label for='attrs-4f6226de-6780-46fe-9d38-6f687051f9f6' title='Show/Hide attributes'><svg class='icon xr-icon-file-text2'><use xlink:href='#icon-file-text2'></use></svg></label><input id='data-e372e8f9-539e-4adb-b8ba-b768cfe5fccd' class='xr-var-data-in' type='checkbox'><label for='data-e372e8f9-539e-4adb-b8ba-b768cfe5fccd' title='Show/Hide data repr'><svg class='icon xr-icon-database'><use xlink:href='#icon-database'></use></svg></label><div class='xr-var-attrs'><dl class='xr-attrs'><dt><span>units :</span></dt><dd>m</dd><dt><span>long_name :</span></dt><dd>Soil depth.</dd></dl></div><div class='xr-var-data'><pre>array([-1.495, -1.485, -1.475, -1.465, -1.455, -1.445, -1.435, -1.425, -1.415,\n",
       "       -1.405, -1.395, -1.385, -1.375, -1.365, -1.355, -1.345, -1.335, -1.325,\n",
       "       -1.315, -1.305, -1.295, -1.285, -1.275, -1.265, -1.255, -1.245, -1.235,\n",
       "       -1.225, -1.215, -1.205, -1.195, -1.185, -1.175, -1.165, -1.155, -1.145,\n",
       "       -1.135, -1.125, -1.115, -1.105, -1.095, -1.085, -1.075, -1.065, -1.055,\n",
       "       -1.045, -1.035, -1.025, -1.015, -1.005, -0.995, -0.985, -0.975, -0.965,\n",
       "       -0.955, -0.945, -0.935, -0.925, -0.915, -0.905, -0.895, -0.885, -0.875,\n",
       "       -0.865, -0.855, -0.845, -0.835, -0.825, -0.815, -0.805, -0.795, -0.785,\n",
       "       -0.775, -0.765, -0.755, -0.745, -0.735, -0.725, -0.715, -0.705, -0.695,\n",
       "       -0.685, -0.675, -0.665, -0.655, -0.645, -0.635, -0.625, -0.615, -0.605,\n",
       "       -0.595, -0.585, -0.575, -0.565, -0.555, -0.545, -0.535, -0.525, -0.515,\n",
       "       -0.505, -0.495, -0.485, -0.475, -0.465, -0.455, -0.445, -0.435, -0.425,\n",
       "       -0.415, -0.405, -0.395, -0.385, -0.375, -0.365, -0.355, -0.345, -0.335,\n",
       "       -0.325, -0.315, -0.305, -0.295, -0.285, -0.275, -0.265, -0.255, -0.245,\n",
       "       -0.235, -0.225, -0.215, -0.205, -0.195, -0.185, -0.175, -0.165, -0.155,\n",
       "       -0.145, -0.135, -0.125, -0.115, -0.105, -0.095, -0.085, -0.075, -0.065,\n",
       "       -0.055, -0.045, -0.035, -0.025, -0.015, -0.005])</pre></div></li><li class='xr-var-item'><div class='xr-var-name'><span class='xr-has-index'>dualDepth</span></div><div class='xr-var-dims'>(dualDepth)</div><div class='xr-var-dtype'>float64</div><div class='xr-var-preview xr-preview'>-1.5 -1.49 -1.48 ... -0.02 -0.01</div><input id='attrs-f37b27fc-60b6-4225-94a9-4a61f9a83280' class='xr-var-attrs-in' type='checkbox' ><label for='attrs-f37b27fc-60b6-4225-94a9-4a61f9a83280' title='Show/Hide attributes'><svg class='icon xr-icon-file-text2'><use xlink:href='#icon-file-text2'></use></svg></label><input id='data-670745f9-640c-44b2-a62e-4b16cb608af5' class='xr-var-data-in' type='checkbox'><label for='data-670745f9-640c-44b2-a62e-4b16cb608af5' title='Show/Hide data repr'><svg class='icon xr-icon-database'><use xlink:href='#icon-database'></use></svg></label><div class='xr-var-attrs'><dl class='xr-attrs'><dt><span>units :</span></dt><dd>m</dd><dt><span>long_name :</span></dt><dd>Dual soil depth.</dd></dl></div><div class='xr-var-data'><pre>array([-1.5 , -1.49, -1.48, -1.47, -1.46, -1.45, -1.44, -1.43, -1.42, -1.41,\n",
       "       -1.4 , -1.39, -1.38, -1.37, -1.36, -1.35, -1.34, -1.33, -1.32, -1.31,\n",
       "       -1.3 , -1.29, -1.28, -1.27, -1.26, -1.25, -1.24, -1.23, -1.22, -1.21,\n",
       "       -1.2 , -1.19, -1.18, -1.17, -1.16, -1.15, -1.14, -1.13, -1.12, -1.11,\n",
       "       -1.1 , -1.09, -1.08, -1.07, -1.06, -1.05, -1.04, -1.03, -1.02, -1.01,\n",
       "       -1.  , -0.99, -0.98, -0.97, -0.96, -0.95, -0.94, -0.93, -0.92, -0.91,\n",
       "       -0.9 , -0.89, -0.88, -0.87, -0.86, -0.85, -0.84, -0.83, -0.82, -0.81,\n",
       "       -0.8 , -0.79, -0.78, -0.77, -0.76, -0.75, -0.74, -0.73, -0.72, -0.71,\n",
       "       -0.7 , -0.69, -0.68, -0.67, -0.66, -0.65, -0.64, -0.63, -0.62, -0.61,\n",
       "       -0.6 , -0.59, -0.58, -0.57, -0.56, -0.55, -0.54, -0.53, -0.52, -0.51,\n",
       "       -0.5 , -0.49, -0.48, -0.47, -0.46, -0.45, -0.44, -0.43, -0.42, -0.41,\n",
       "       -0.4 , -0.39, -0.38, -0.37, -0.36, -0.35, -0.34, -0.33, -0.32, -0.31,\n",
       "       -0.3 , -0.29, -0.28, -0.27, -0.26, -0.25, -0.24, -0.23, -0.22, -0.21,\n",
       "       -0.2 , -0.19, -0.18, -0.17, -0.16, -0.15, -0.14, -0.13, -0.12, -0.11,\n",
       "       -0.1 , -0.09, -0.08, -0.07, -0.06, -0.05, -0.04, -0.03, -0.02, -0.01])</pre></div></li><li class='xr-var-item'><div class='xr-var-name'><span class='xr-has-index'>time</span></div><div class='xr-var-dims'>(time)</div><div class='xr-var-dtype'>datetime64[ns]</div><div class='xr-var-preview xr-preview'>2014-09-09T18:00:00 ... 2014-09-...</div><input id='attrs-be63e23f-3189-4235-909d-8b8e0321c99b' class='xr-var-attrs-in' type='checkbox' ><label for='attrs-be63e23f-3189-4235-909d-8b8e0321c99b' title='Show/Hide attributes'><svg class='icon xr-icon-file-text2'><use xlink:href='#icon-file-text2'></use></svg></label><input id='data-b232c0ef-3edf-46ba-a606-9f58292e77a8' class='xr-var-data-in' type='checkbox'><label for='data-b232c0ef-3edf-46ba-a606-9f58292e77a8' title='Show/Hide data repr'><svg class='icon xr-icon-database'><use xlink:href='#icon-database'></use></svg></label><div class='xr-var-attrs'><dl class='xr-attrs'><dt><span>long_name :</span></dt><dd>Time.</dd></dl></div><div class='xr-var-data'><pre>array([&#x27;2014-09-09T18:00:00.000000000&#x27;, &#x27;2014-09-09T19:00:00.000000000&#x27;,\n",
       "       &#x27;2014-09-09T20:00:00.000000000&#x27;, &#x27;2014-09-09T21:00:00.000000000&#x27;,\n",
       "       &#x27;2014-09-09T22:00:00.000000000&#x27;, &#x27;2014-09-09T23:00:00.000000000&#x27;,\n",
       "       &#x27;2014-09-10T00:00:00.000000000&#x27;, &#x27;2014-09-10T01:00:00.000000000&#x27;,\n",
       "       &#x27;2014-09-10T02:00:00.000000000&#x27;, &#x27;2014-09-10T03:00:00.000000000&#x27;,\n",
       "       &#x27;2014-09-10T04:00:00.000000000&#x27;, &#x27;2014-09-10T05:00:00.000000000&#x27;,\n",
       "       &#x27;2014-09-10T06:00:00.000000000&#x27;, &#x27;2014-09-10T07:00:00.000000000&#x27;,\n",
       "       &#x27;2014-09-10T08:00:00.000000000&#x27;, &#x27;2014-09-10T09:00:00.000000000&#x27;,\n",
       "       &#x27;2014-09-10T10:00:00.000000000&#x27;, &#x27;2014-09-10T11:00:00.000000000&#x27;,\n",
       "       &#x27;2014-09-10T12:00:00.000000000&#x27;, &#x27;2014-09-10T13:00:00.000000000&#x27;,\n",
       "       &#x27;2014-09-10T14:00:00.000000000&#x27;, &#x27;2014-09-10T15:00:00.000000000&#x27;,\n",
       "       &#x27;2014-09-10T16:00:00.000000000&#x27;, &#x27;2014-09-10T17:00:00.000000000&#x27;,\n",
       "       &#x27;2014-09-10T18:00:00.000000000&#x27;, &#x27;2014-09-10T19:00:00.000000000&#x27;,\n",
       "       &#x27;2014-09-10T20:00:00.000000000&#x27;, &#x27;2014-09-10T21:00:00.000000000&#x27;,\n",
       "       &#x27;2014-09-10T22:00:00.000000000&#x27;, &#x27;2014-09-10T23:00:00.000000000&#x27;,\n",
       "       &#x27;2014-09-11T00:00:00.000000000&#x27;, &#x27;2014-09-11T01:00:00.000000000&#x27;,\n",
       "       &#x27;2014-09-11T02:00:00.000000000&#x27;, &#x27;2014-09-11T03:00:00.000000000&#x27;,\n",
       "       &#x27;2014-09-11T04:00:00.000000000&#x27;, &#x27;2014-09-11T05:00:00.000000000&#x27;,\n",
       "       &#x27;2014-09-11T06:00:00.000000000&#x27;, &#x27;2014-09-11T07:00:00.000000000&#x27;,\n",
       "       &#x27;2014-09-11T08:00:00.000000000&#x27;, &#x27;2014-09-11T09:00:00.000000000&#x27;,\n",
       "       &#x27;2014-09-11T10:00:00.000000000&#x27;, &#x27;2014-09-11T11:00:00.000000000&#x27;,\n",
       "       &#x27;2014-09-11T12:00:00.000000000&#x27;, &#x27;2014-09-11T13:00:00.000000000&#x27;,\n",
       "       &#x27;2014-09-11T14:00:00.000000000&#x27;, &#x27;2014-09-11T15:00:00.000000000&#x27;,\n",
       "       &#x27;2014-09-11T16:00:00.000000000&#x27;, &#x27;2014-09-11T17:00:00.000000000&#x27;,\n",
       "       &#x27;2014-09-11T18:00:00.000000000&#x27;, &#x27;2014-09-11T19:00:00.000000000&#x27;,\n",
       "       &#x27;2014-09-11T20:00:00.000000000&#x27;, &#x27;2014-09-11T21:00:00.000000000&#x27;,\n",
       "       &#x27;2014-09-11T22:00:00.000000000&#x27;, &#x27;2014-09-11T23:00:00.000000000&#x27;,\n",
       "       &#x27;2014-09-12T00:00:00.000000000&#x27;, &#x27;2014-09-12T01:00:00.000000000&#x27;,\n",
       "       &#x27;2014-09-12T02:00:00.000000000&#x27;, &#x27;2014-09-12T03:00:00.000000000&#x27;,\n",
       "       &#x27;2014-09-12T04:00:00.000000000&#x27;, &#x27;2014-09-12T05:00:00.000000000&#x27;,\n",
       "       &#x27;2014-09-12T06:00:00.000000000&#x27;], dtype=&#x27;datetime64[ns]&#x27;)</pre></div></li></ul></div></li><li class='xr-section-item'><input id='section-f030cd12-b248-4728-b540-4f7ad68dd0dd' class='xr-section-summary-in' type='checkbox'  checked><label for='section-f030cd12-b248-4728-b540-4f7ad68dd0dd' class='xr-section-summary' >Data variables: <span>(12)</span></label><div class='xr-section-inline-details'></div><div class='xr-section-details'><ul class='xr-var-list'><li class='xr-var-item'><div class='xr-var-name'><span>psi</span></div><div class='xr-var-dims'>(time, depth)</div><div class='xr-var-dtype'>float64</div><div class='xr-var-preview xr-preview'>...</div><input id='attrs-748f9c7a-183f-4b6a-98ed-25334cd5d217' class='xr-var-attrs-in' type='checkbox' ><label for='attrs-748f9c7a-183f-4b6a-98ed-25334cd5d217' title='Show/Hide attributes'><svg class='icon xr-icon-file-text2'><use xlink:href='#icon-file-text2'></use></svg></label><input id='data-319605b1-d96c-44c7-b105-6fbcbe9b1b17' class='xr-var-data-in' type='checkbox'><label for='data-319605b1-d96c-44c7-b105-6fbcbe9b1b17' title='Show/Hide data repr'><svg class='icon xr-icon-database'><use xlink:href='#icon-database'></use></svg></label><div class='xr-var-attrs'><dl class='xr-attrs'><dt><span>units :</span></dt><dd>m</dd><dt><span>long_name :</span></dt><dd>Water suction.</dd></dl></div><div class='xr-var-data'><pre>array([[-3.005   , -3.015   , -3.025   , ..., -4.475   , -4.485   , -4.495   ],\n",
       "       [-3.005   , -3.015   , -3.025   , ..., -4.475   , -4.485   , -4.495   ],\n",
       "       [-3.005   , -3.015   , -3.025   , ..., -4.475   , -4.485   , -4.495   ],\n",
       "       ...,\n",
       "       [-3.005   , -3.015   , -3.025   , ..., -0.203194, -0.209864, -0.217613],\n",
       "       [-3.005   , -3.015   , -3.025   , ..., -0.211846, -0.218722, -0.226621],\n",
       "       [-3.005   , -3.015   , -3.025   , ..., -0.219235, -0.226255, -0.23426 ]])</pre></div></li><li class='xr-var-item'><div class='xr-var-name'><span>psiIC</span></div><div class='xr-var-dims'>(depth)</div><div class='xr-var-dtype'>float64</div><div class='xr-var-preview xr-preview'>...</div><input id='attrs-58414146-1629-4d68-8cb4-48e0ea6cdb2a' class='xr-var-attrs-in' type='checkbox' ><label for='attrs-58414146-1629-4d68-8cb4-48e0ea6cdb2a' title='Show/Hide attributes'><svg class='icon xr-icon-file-text2'><use xlink:href='#icon-file-text2'></use></svg></label><input id='data-7df4b22e-1e2a-4d70-bcc3-5b45948837da' class='xr-var-data-in' type='checkbox'><label for='data-7df4b22e-1e2a-4d70-bcc3-5b45948837da' title='Show/Hide data repr'><svg class='icon xr-icon-database'><use xlink:href='#icon-database'></use></svg></label><div class='xr-var-attrs'><dl class='xr-attrs'><dt><span>units :</span></dt><dd>m</dd><dt><span>long_name :</span></dt><dd>Initial condition for water suction.</dd></dl></div><div class='xr-var-data'><pre>array([-3.005, -3.015, -3.025, -3.035, -3.045, -3.055, -3.065, -3.075, -3.085,\n",
       "       -3.095, -3.105, -3.115, -3.125, -3.135, -3.145, -3.155, -3.165, -3.175,\n",
       "       -3.185, -3.195, -3.205, -3.215, -3.225, -3.235, -3.245, -3.255, -3.265,\n",
       "       -3.275, -3.285, -3.295, -3.305, -3.315, -3.325, -3.335, -3.345, -3.355,\n",
       "       -3.365, -3.375, -3.385, -3.395, -3.405, -3.415, -3.425, -3.435, -3.445,\n",
       "       -3.455, -3.465, -3.475, -3.485, -3.495, -3.505, -3.515, -3.525, -3.535,\n",
       "       -3.545, -3.555, -3.565, -3.575, -3.585, -3.595, -3.605, -3.615, -3.625,\n",
       "       -3.635, -3.645, -3.655, -3.665, -3.675, -3.685, -3.695, -3.705, -3.715,\n",
       "       -3.725, -3.735, -3.745, -3.755, -3.765, -3.775, -3.785, -3.795, -3.805,\n",
       "       -3.815, -3.825, -3.835, -3.845, -3.855, -3.865, -3.875, -3.885, -3.895,\n",
       "       -3.905, -3.915, -3.925, -3.935, -3.945, -3.955, -3.965, -3.975, -3.985,\n",
       "       -3.995, -4.005, -4.015, -4.025, -4.035, -4.045, -4.055, -4.065, -4.075,\n",
       "       -4.085, -4.095, -4.105, -4.115, -4.125, -4.135, -4.145, -4.155, -4.165,\n",
       "       -4.175, -4.185, -4.195, -4.205, -4.215, -4.225, -4.235, -4.245, -4.255,\n",
       "       -4.265, -4.275, -4.285, -4.295, -4.305, -4.315, -4.325, -4.335, -4.345,\n",
       "       -4.355, -4.365, -4.375, -4.385, -4.395, -4.405, -4.415, -4.425, -4.435,\n",
       "       -4.445, -4.455, -4.465, -4.475, -4.485, -4.495])</pre></div></li><li class='xr-var-item'><div class='xr-var-name'><span>T</span></div><div class='xr-var-dims'>(depth)</div><div class='xr-var-dtype'>float64</div><div class='xr-var-preview xr-preview'>...</div><input id='attrs-6d91a9a1-11bf-4cec-8c93-5318dca6fe3e' class='xr-var-attrs-in' type='checkbox' ><label for='attrs-6d91a9a1-11bf-4cec-8c93-5318dca6fe3e' title='Show/Hide attributes'><svg class='icon xr-icon-file-text2'><use xlink:href='#icon-file-text2'></use></svg></label><input id='data-95ce78b7-7cc2-4822-83ee-62ff0439f4a6' class='xr-var-data-in' type='checkbox'><label for='data-95ce78b7-7cc2-4822-83ee-62ff0439f4a6' title='Show/Hide data repr'><svg class='icon xr-icon-database'><use xlink:href='#icon-database'></use></svg></label><div class='xr-var-attrs'><dl class='xr-attrs'><dt><span>units :</span></dt><dd>K</dd><dt><span>long_name :</span></dt><dd>Temperature.</dd></dl></div><div class='xr-var-data'><pre>array([287.12, 287.06, 287.  , 286.94, 286.88, 286.82, 286.76, 286.7 , 286.64,\n",
       "       286.58, 286.52, 286.46, 286.4 , 286.34, 286.28, 286.22, 286.16, 286.1 ,\n",
       "       286.04, 285.98, 285.92, 285.86, 285.8 , 285.74, 285.68, 285.62, 285.56,\n",
       "       285.5 , 285.44, 285.38, 285.32, 285.26, 285.2 , 285.14, 285.08, 285.02,\n",
       "       284.96, 284.9 , 284.84, 284.78, 284.72, 284.66, 284.6 , 284.54, 284.48,\n",
       "       284.42, 284.36, 284.3 , 284.24, 284.18, 284.12, 284.06, 284.  , 283.94,\n",
       "       283.88, 283.82, 283.76, 283.7 , 283.64, 283.58, 283.52, 283.46, 283.4 ,\n",
       "       283.34, 283.28, 283.22, 283.16, 283.1 , 283.04, 282.98, 282.92, 282.86,\n",
       "       282.8 , 282.74, 282.68, 282.62, 282.56, 282.5 , 282.44, 282.38, 282.32,\n",
       "       282.26, 282.2 , 282.14, 282.08, 282.02, 281.96, 281.9 , 281.84, 281.78,\n",
       "       281.72, 281.66, 281.6 , 281.54, 281.48, 281.42, 281.36, 281.3 , 281.24,\n",
       "       281.18, 281.12, 281.06, 281.  , 280.94, 280.88, 280.82, 280.76, 280.7 ,\n",
       "       280.64, 280.58, 280.52, 280.46, 280.4 , 280.34, 280.28, 280.22, 280.16,\n",
       "       280.1 , 280.04, 279.98, 279.92, 279.86, 279.8 , 279.74, 279.68, 279.62,\n",
       "       279.56, 279.5 , 279.44, 279.38, 279.32, 279.26, 279.2 , 279.14, 279.08,\n",
       "       279.02, 278.96, 278.9 , 278.84, 278.78, 278.72, 278.66, 278.6 , 278.54,\n",
       "       278.48, 278.42, 278.36, 278.3 , 278.24, 278.18])</pre></div></li><li class='xr-var-item'><div class='xr-var-name'><span>theta</span></div><div class='xr-var-dims'>(time, depth)</div><div class='xr-var-dtype'>float64</div><div class='xr-var-preview xr-preview'>...</div><input id='attrs-5c9b89fd-486b-4b61-b149-ec0aa2920cad' class='xr-var-attrs-in' type='checkbox' ><label for='attrs-5c9b89fd-486b-4b61-b149-ec0aa2920cad' title='Show/Hide attributes'><svg class='icon xr-icon-file-text2'><use xlink:href='#icon-file-text2'></use></svg></label><input id='data-b21d1ad5-f0f0-4120-855a-2728347ad0f0' class='xr-var-data-in' type='checkbox'><label for='data-b21d1ad5-f0f0-4120-855a-2728347ad0f0' title='Show/Hide data repr'><svg class='icon xr-icon-database'><use xlink:href='#icon-database'></use></svg></label><div class='xr-var-attrs'><dl class='xr-attrs'><dt><span>units :</span></dt><dd> </dd><dt><span>long_name :</span></dt><dd>theta for within soil and water depth.</dd></dl></div><div class='xr-var-data'><pre>array([[0.326922, 0.326767, 0.326612, ..., 0.059066, 0.05906 , 0.059054],\n",
       "       [0.326922, 0.326767, 0.326612, ..., 0.059066, 0.05906 , 0.059054],\n",
       "       [0.326922, 0.326767, 0.326612, ..., 0.059066, 0.05906 , 0.059054],\n",
       "       ...,\n",
       "       [0.326922, 0.326767, 0.326612, ..., 0.158411, 0.154728, 0.15072 ],\n",
       "       [0.326922, 0.326767, 0.326612, ..., 0.153676, 0.150169, 0.146397],\n",
       "       [0.326922, 0.326767, 0.326612, ..., 0.149916, 0.146566, 0.142988]])</pre></div></li><li class='xr-var-item'><div class='xr-var-name'><span>saturationDegree</span></div><div class='xr-var-dims'>(time, depth)</div><div class='xr-var-dtype'>float64</div><div class='xr-var-preview xr-preview'>...</div><input id='attrs-ebf54069-8182-4891-8dae-726fad9ca778' class='xr-var-attrs-in' type='checkbox' ><label for='attrs-ebf54069-8182-4891-8dae-726fad9ca778' title='Show/Hide attributes'><svg class='icon xr-icon-file-text2'><use xlink:href='#icon-file-text2'></use></svg></label><input id='data-899db4a4-b822-4739-840f-3c3a7a259b93' class='xr-var-data-in' type='checkbox'><label for='data-899db4a4-b822-4739-840f-3c3a7a259b93' title='Show/Hide data repr'><svg class='icon xr-icon-database'><use xlink:href='#icon-database'></use></svg></label><div class='xr-var-attrs'><dl class='xr-attrs'><dt><span>units :</span></dt><dd>1</dd><dt><span>long_name :</span></dt><dd>saturation degree.</dd></dl></div><div class='xr-var-data'><pre>array([[0.697718, 0.697263, 0.696809, ..., 0.005853, 0.005836, 0.00582 ],\n",
       "       [0.697718, 0.697263, 0.696809, ..., 0.005853, 0.005836, 0.00582 ],\n",
       "       [0.697718, 0.697263, 0.696809, ..., 0.005853, 0.005836, 0.00582 ],\n",
       "       ...,\n",
       "       [0.697718, 0.697263, 0.696809, ..., 0.287285, 0.276849, 0.265496],\n",
       "       [0.697718, 0.697263, 0.696809, ..., 0.273869, 0.263935, 0.25325 ],\n",
       "       [0.697718, 0.697263, 0.696809, ..., 0.263218, 0.253728, 0.243591]])</pre></div></li><li class='xr-var-item'><div class='xr-var-name'><span>darcyVelocity</span></div><div class='xr-var-dims'>(time, dualDepth)</div><div class='xr-var-dtype'>float64</div><div class='xr-var-preview xr-preview'>...</div><input id='attrs-670e4487-93b7-4005-9bbf-a2237eec9617' class='xr-var-attrs-in' type='checkbox' ><label for='attrs-670e4487-93b7-4005-9bbf-a2237eec9617' title='Show/Hide attributes'><svg class='icon xr-icon-file-text2'><use xlink:href='#icon-file-text2'></use></svg></label><input id='data-b0c0768a-01c6-40b1-a900-464d937458e1' class='xr-var-data-in' type='checkbox'><label for='data-b0c0768a-01c6-40b1-a900-464d937458e1' title='Show/Hide data repr'><svg class='icon xr-icon-database'><use xlink:href='#icon-database'></use></svg></label><div class='xr-var-attrs'><dl class='xr-attrs'><dt><span>units :</span></dt><dd>m/s</dd><dt><span>long_name :</span></dt><dd>Darcy velocity.</dd></dl></div><div class='xr-var-data'><pre>array([[-0.000000e+00, -3.045402e-24,  3.021807e-24, ..., -2.442286e-28,\n",
       "        -1.810531e-28,  7.028962e-28],\n",
       "       [-0.000000e+00, -3.045402e-24,  3.021807e-24, ..., -2.442286e-28,\n",
       "        -1.810531e-28,  7.028962e-28],\n",
       "       [-0.000000e+00, -3.045402e-24,  3.021807e-24, ..., -2.442286e-28,\n",
       "        -1.810531e-28,  7.028962e-28],\n",
       "       ...,\n",
       "       [-1.956668e-22,  1.611018e-21, -8.158880e-23, ..., -4.329159e-08,\n",
       "        -2.827410e-08, -1.377321e-08],\n",
       "       [-1.956668e-22,  1.611018e-21, -8.158880e-23, ..., -3.335451e-08,\n",
       "        -2.172965e-08, -1.056922e-08],\n",
       "       [-1.956668e-22,  1.611018e-21, -8.158880e-23, ..., -2.701959e-08,\n",
       "        -1.757787e-08, -8.543014e-09]])</pre></div></li><li class='xr-var-item'><div class='xr-var-name'><span>waterVolume</span></div><div class='xr-var-dims'>(time, depth)</div><div class='xr-var-dtype'>float64</div><div class='xr-var-preview xr-preview'>...</div><input id='attrs-dbc14f25-2411-49f7-a5ff-c708614d6ab4' class='xr-var-attrs-in' type='checkbox' ><label for='attrs-dbc14f25-2411-49f7-a5ff-c708614d6ab4' title='Show/Hide attributes'><svg class='icon xr-icon-file-text2'><use xlink:href='#icon-file-text2'></use></svg></label><input id='data-3eefdd83-e3a8-4c11-8f88-a9ad2eb2b5cb' class='xr-var-data-in' type='checkbox'><label for='data-3eefdd83-e3a8-4c11-8f88-a9ad2eb2b5cb' title='Show/Hide data repr'><svg class='icon xr-icon-database'><use xlink:href='#icon-database'></use></svg></label><div class='xr-var-attrs'><dl class='xr-attrs'><dt><span>units :</span></dt><dd>m</dd><dt><span>long_name :</span></dt><dd>Water volume in each control volume</dd></dl></div><div class='xr-var-data'><pre>array([[0.003269, 0.003268, 0.003266, ..., 0.000591, 0.000591, 0.000591],\n",
       "       [0.003269, 0.003268, 0.003266, ..., 0.000591, 0.000591, 0.000591],\n",
       "       [0.003269, 0.003268, 0.003266, ..., 0.000591, 0.000591, 0.000591],\n",
       "       ...,\n",
       "       [0.003269, 0.003268, 0.003266, ..., 0.001584, 0.001547, 0.001507],\n",
       "       [0.003269, 0.003268, 0.003266, ..., 0.001537, 0.001502, 0.001464],\n",
       "       [0.003269, 0.003268, 0.003266, ..., 0.001499, 0.001466, 0.00143 ]])</pre></div></li><li class='xr-var-item'><div class='xr-var-name'><span>error</span></div><div class='xr-var-dims'>(time)</div><div class='xr-var-dtype'>float64</div><div class='xr-var-preview xr-preview'>...</div><input id='attrs-5a5a8852-3ab9-4fc6-b3da-c22317c78a5e' class='xr-var-attrs-in' type='checkbox' ><label for='attrs-5a5a8852-3ab9-4fc6-b3da-c22317c78a5e' title='Show/Hide attributes'><svg class='icon xr-icon-file-text2'><use xlink:href='#icon-file-text2'></use></svg></label><input id='data-02f63885-8eb1-422a-afc4-0868dac7ba33' class='xr-var-data-in' type='checkbox'><label for='data-02f63885-8eb1-422a-afc4-0868dac7ba33' title='Show/Hide data repr'><svg class='icon xr-icon-database'><use xlink:href='#icon-database'></use></svg></label><div class='xr-var-attrs'><dl class='xr-attrs'><dt><span>units :</span></dt><dd>m</dd><dt><span>long_name :</span></dt><dd>Volume error at each time step.</dd></dl></div><div class='xr-var-data'><pre>array([ 0.000000e+00,  0.000000e+00,  0.000000e+00,  1.147671e-14,\n",
       "        4.819950e-12,  2.233159e-13,  1.514508e-13,  1.807543e-13,\n",
       "        6.938896e-14,  1.558850e-11,  2.091835e-12,  3.800612e-13,\n",
       "        1.332268e-13,  5.295766e-14,  1.326718e-14,  5.440110e-15,\n",
       "        2.575367e-15,  1.276773e-15,  8.881953e-16,  5.551284e-16,\n",
       "        3.885949e-16,  1.110392e-16,  1.665503e-16, -5.549427e-17,\n",
       "        1.665503e-16,  1.687627e-20,  1.665503e-16, -5.549427e-17,\n",
       "        5.552803e-17,  4.279911e-14,  1.818864e-13,  4.365052e-15,\n",
       "       -7.318365e-18,  6.223210e-12,  1.490752e-12,  5.318742e-13,\n",
       "        7.839285e-13,  3.956613e-12, -1.110106e-16, -1.665217e-16,\n",
       "       -3.330552e-16, -3.885663e-16, -1.054700e-15, -4.385369e-15,\n",
       "       -1.415533e-14, -3.558264e-14, -7.971400e-14, -1.596501e-13,\n",
       "       -2.878253e-13, -4.707901e-13, -7.065951e-13, -9.840243e-13,\n",
       "       -1.288969e-12, -1.601187e-12, -1.905791e-12, -2.188918e-12,\n",
       "       -2.445599e-12, -2.673584e-12, -2.879863e-12, -3.076372e-12,\n",
       "       -3.285705e-12])</pre></div></li><li class='xr-var-item'><div class='xr-var-name'><span>topBC</span></div><div class='xr-var-dims'>(time)</div><div class='xr-var-dtype'>float64</div><div class='xr-var-preview xr-preview'>...</div><input id='attrs-c7139c6e-6b90-453a-8c42-a585ad51ee3b' class='xr-var-attrs-in' type='checkbox' ><label for='attrs-c7139c6e-6b90-453a-8c42-a585ad51ee3b' title='Show/Hide attributes'><svg class='icon xr-icon-file-text2'><use xlink:href='#icon-file-text2'></use></svg></label><input id='data-cd413258-1c45-4921-814a-9419a3dbc456' class='xr-var-data-in' type='checkbox'><label for='data-cd413258-1c45-4921-814a-9419a3dbc456' title='Show/Hide data repr'><svg class='icon xr-icon-database'><use xlink:href='#icon-database'></use></svg></label><div class='xr-var-attrs'><dl class='xr-attrs'><dt><span>units :</span></dt><dd>mm</dd><dt><span>long_name :</span></dt><dd>Rainfall heights</dd></dl></div><div class='xr-var-data'><pre>array([ 0. ,  0. ,  0. , 25.8,  2.8,  3. ,  3.2,  0.6,  0. , 11.4,  1.6,  0.8,\n",
       "        0. ,  0. ,  0. ,  0. ,  0.2,  0. ,  0. ,  0. ,  0. ,  0. ,  0. ,  0. ,\n",
       "        0. ,  0. ,  0. ,  0. ,  0. ,  0. ,  0.8, 23.2,  4. ,  0.2,  0. ,  0.2,\n",
       "        0. ,  0. ,  0. ,  0. ,  0. ,  0. ,  0. ,  0. ,  0. ,  0. ,  0. ,  0. ,\n",
       "        0. ,  0. ,  2.6,  0.2,  0. ,  0.8,  2.2,  1. ,  0. ,  0. ,  0. ,  0. ,\n",
       "        0. ])</pre></div></li><li class='xr-var-item'><div class='xr-var-name'><span>bottomBC</span></div><div class='xr-var-dims'>(time)</div><div class='xr-var-dtype'>float64</div><div class='xr-var-preview xr-preview'>...</div><input id='attrs-3af3cf40-6e23-4f87-aa40-4362360d5957' class='xr-var-attrs-in' type='checkbox' ><label for='attrs-3af3cf40-6e23-4f87-aa40-4362360d5957' title='Show/Hide attributes'><svg class='icon xr-icon-file-text2'><use xlink:href='#icon-file-text2'></use></svg></label><input id='data-a8c1206e-138f-4e60-93b9-07f4f197ff82' class='xr-var-data-in' type='checkbox'><label for='data-a8c1206e-138f-4e60-93b9-07f4f197ff82' title='Show/Hide data repr'><svg class='icon xr-icon-database'><use xlink:href='#icon-database'></use></svg></label><div class='xr-var-attrs'><dl class='xr-attrs'><dt><span>units :</span></dt><dd></dd><dt><span>long_name :</span></dt><dd></dd></dl></div><div class='xr-var-data'><pre>array([-3., -3., -3., -3., -3., -3., -3., -3., -3., -3., -3., -3., -3., -3.,\n",
       "       -3., -3., -3., -3., -3., -3., -3., -3., -3., -3., -3., -3., -3., -3.,\n",
       "       -3., -3., -3., -3., -3., -3., -3., -3., -3., -3., -3., -3., -3., -3.,\n",
       "       -3., -3., -3., -3., -3., -3., -3., -3., -3., -3., -3., -3., -3., -3.,\n",
       "       -3., -3., -3., -3., -3.])</pre></div></li><li class='xr-var-item'><div class='xr-var-name'><span>runOff</span></div><div class='xr-var-dims'>(time)</div><div class='xr-var-dtype'>float64</div><div class='xr-var-preview xr-preview'>...</div><input id='attrs-d3ec2fb2-1f92-4ba5-ac83-2db26f01bef8' class='xr-var-attrs-in' type='checkbox' ><label for='attrs-d3ec2fb2-1f92-4ba5-ac83-2db26f01bef8' title='Show/Hide attributes'><svg class='icon xr-icon-file-text2'><use xlink:href='#icon-file-text2'></use></svg></label><input id='data-747ea4de-5618-49af-9607-c9763592635e' class='xr-var-data-in' type='checkbox'><label for='data-747ea4de-5618-49af-9607-c9763592635e' title='Show/Hide data repr'><svg class='icon xr-icon-database'><use xlink:href='#icon-database'></use></svg></label><div class='xr-var-attrs'><dl class='xr-attrs'><dt><span>units :</span></dt><dd>m/s</dd><dt><span>long_name :</span></dt><dd>run off</dd></dl></div><div class='xr-var-data'><pre>array([0., 0., 0., 0., 0., 0., 0., 0., 0., 0., 0., 0., 0., 0., 0., 0., 0., 0.,\n",
       "       0., 0., 0., 0., 0., 0., 0., 0., 0., 0., 0., 0., 0., 0., 0., 0., 0., 0.,\n",
       "       0., 0., 0., 0., 0., 0., 0., 0., 0., 0., 0., 0., 0., 0., 0., 0., 0., 0.,\n",
       "       0., 0., 0., 0., 0., 0., 0.])</pre></div></li><li class='xr-var-item'><div class='xr-var-name'><span>controlVolume</span></div><div class='xr-var-dims'>(depth)</div><div class='xr-var-dtype'>float64</div><div class='xr-var-preview xr-preview'>...</div><input id='attrs-a42166d3-1183-4398-afc6-1041ef7854a6' class='xr-var-attrs-in' type='checkbox' ><label for='attrs-a42166d3-1183-4398-afc6-1041ef7854a6' title='Show/Hide attributes'><svg class='icon xr-icon-file-text2'><use xlink:href='#icon-file-text2'></use></svg></label><input id='data-d3ec50b5-bacc-453a-998d-859173a9cd3a' class='xr-var-data-in' type='checkbox'><label for='data-d3ec50b5-bacc-453a-998d-859173a9cd3a' title='Show/Hide data repr'><svg class='icon xr-icon-database'><use xlink:href='#icon-database'></use></svg></label><div class='xr-var-attrs'><dl class='xr-attrs'><dt><span>units :</span></dt><dd>m</dd><dt><span>long_name :</span></dt><dd>dimension of each control volumes</dd></dl></div><div class='xr-var-data'><pre>array([0.01, 0.01, 0.01, 0.01, 0.01, 0.01, 0.01, 0.01, 0.01, 0.01, 0.01, 0.01,\n",
       "       0.01, 0.01, 0.01, 0.01, 0.01, 0.01, 0.01, 0.01, 0.01, 0.01, 0.01, 0.01,\n",
       "       0.01, 0.01, 0.01, 0.01, 0.01, 0.01, 0.01, 0.01, 0.01, 0.01, 0.01, 0.01,\n",
       "       0.01, 0.01, 0.01, 0.01, 0.01, 0.01, 0.01, 0.01, 0.01, 0.01, 0.01, 0.01,\n",
       "       0.01, 0.01, 0.01, 0.01, 0.01, 0.01, 0.01, 0.01, 0.01, 0.01, 0.01, 0.01,\n",
       "       0.01, 0.01, 0.01, 0.01, 0.01, 0.01, 0.01, 0.01, 0.01, 0.01, 0.01, 0.01,\n",
       "       0.01, 0.01, 0.01, 0.01, 0.01, 0.01, 0.01, 0.01, 0.01, 0.01, 0.01, 0.01,\n",
       "       0.01, 0.01, 0.01, 0.01, 0.01, 0.01, 0.01, 0.01, 0.01, 0.01, 0.01, 0.01,\n",
       "       0.01, 0.01, 0.01, 0.01, 0.01, 0.01, 0.01, 0.01, 0.01, 0.01, 0.01, 0.01,\n",
       "       0.01, 0.01, 0.01, 0.01, 0.01, 0.01, 0.01, 0.01, 0.01, 0.01, 0.01, 0.01,\n",
       "       0.01, 0.01, 0.01, 0.01, 0.01, 0.01, 0.01, 0.01, 0.01, 0.01, 0.01, 0.01,\n",
       "       0.01, 0.01, 0.01, 0.01, 0.01, 0.01, 0.01, 0.01, 0.01, 0.01, 0.01, 0.01,\n",
       "       0.01, 0.01, 0.01, 0.01, 0.01, 0.01])</pre></div></li></ul></div></li><li class='xr-section-item'><input id='section-795d7720-fea3-4b64-8b6e-e9cd126a8a30' class='xr-section-summary-in' type='checkbox'  ><label for='section-795d7720-fea3-4b64-8b6e-e9cd126a8a30' class='xr-section-summary' >Attributes: <span>(10)</span></label><div class='xr-section-inline-details'></div><div class='xr-section-details'><dl class='xr-attrs'><dt><span>Description_of_the_problem :</span></dt><dd>WHETGEO-1D sim3.</dd><dt><span>Top_boundary_condition :</span></dt><dd>Top Coupled</dd><dt><span>Bottom_boundary_condition :</span></dt><dd>Bottom Dirichlet</dd><dt><span>path_top_boundary_condition :</span></dt><dd>C:\\Users\\User\\Desktop\\OMS_Project_WHETGEO1D_Idrologia_ay_21_22//data/Timeseries/colonna4_PPG_60min.csv</dd><dt><span>path_bottom_boundary_condition :</span></dt><dd>C:\\Users\\User\\Desktop\\OMS_Project_WHETGEO1D_Idrologia_ay_21_22//data/Timeseries/colonna4_dirichlet_60min.csv</dd><dt><span>path_grid :</span></dt><dd>C:\\Users\\User\\Desktop\\OMS_Project_WHETGEO1D_Idrologia_ay_21_22//data/Grid_NetCDF/colonna4_Grid_1.nc</dd><dt><span>time_delta :</span></dt><dd> </dd><dt><span>swrc_model :</span></dt><dd>{Van Genuchten}</dd><dt><span>soil_hydraulic_conductivity_model :</span></dt><dd>{Mualem Van Genuchten}</dd><dt><span>interface_conductivity_model :</span></dt><dd>max</dd></dl></div></li></ul></div></div>"
      ],
      "text/plain": [
       "<xarray.Dataset>\n",
       "Dimensions:           (depth: 150, dualDepth: 150, time: 61)\n",
       "Coordinates:\n",
       "  * depth             (depth) float64 -1.495 -1.485 -1.475 ... -0.015 -0.005\n",
       "  * dualDepth         (dualDepth) float64 -1.5 -1.49 -1.48 ... -0.03 -0.02 -0.01\n",
       "  * time              (time) datetime64[ns] 2014-09-09T18:00:00 ... 2014-09-1...\n",
       "Data variables:\n",
       "    psi               (time, depth) float64 ...\n",
       "    psiIC             (depth) float64 ...\n",
       "    T                 (depth) float64 ...\n",
       "    theta             (time, depth) float64 ...\n",
       "    saturationDegree  (time, depth) float64 ...\n",
       "    darcyVelocity     (time, dualDepth) float64 ...\n",
       "    waterVolume       (time, depth) float64 ...\n",
       "    error             (time) float64 ...\n",
       "    topBC             (time) float64 ...\n",
       "    bottomBC          (time) float64 ...\n",
       "    runOff            (time) float64 ...\n",
       "    controlVolume     (depth) float64 ...\n",
       "Attributes:\n",
       "    Description_of_the_problem:         WHETGEO-1D sim3.\n",
       "    Top_boundary_condition:             Top Coupled\n",
       "    Bottom_boundary_condition:          Bottom Dirichlet\n",
       "    path_top_boundary_condition:        C:\\Users\\User\\Desktop\\OMS_Project_WHE...\n",
       "    path_bottom_boundary_condition:     C:\\Users\\User\\Desktop\\OMS_Project_WHE...\n",
       "    path_grid:                          C:\\Users\\User\\Desktop\\OMS_Project_WHE...\n",
       "    time_delta:                          \n",
       "    swrc_model:                         {Van Genuchten}\n",
       "    soil_hydraulic_conductivity_model:  {Mualem Van Genuchten}\n",
       "    interface_conductivity_model:       max"
      ]
     },
     "execution_count": 19,
     "metadata": {},
     "output_type": "execute_result"
    }
   ],
   "source": [
    "ds3 = xr.open_dataset(project_path + '/output/sim3_PPG_1_0000.nc')\n",
    "ds3"
   ]
  },
  {
   "cell_type": "markdown",
   "id": "624b0ded-3049-4bca-9011-567f57b53cae",
   "metadata": {},
   "source": [
    "#### Analisi della precipitazione"
   ]
  },
  {
   "cell_type": "code",
   "execution_count": 20,
   "id": "b59fd3eb-d881-4614-8686-0ba082028d74",
   "metadata": {},
   "outputs": [
    {
     "data": {
      "application/vnd.plotly.v1+json": {
       "config": {
        "plotlyServerURL": "https://plot.ly"
       },
       "data": [
        {
         "hovertemplate": "data=%{x}<br>precipitazione [mm]=%{y}<extra></extra>",
         "legendgroup": "",
         "line": {
          "color": "#636efa",
          "dash": "solid"
         },
         "marker": {
          "symbol": "circle"
         },
         "mode": "lines",
         "name": "",
         "orientation": "v",
         "showlegend": false,
         "type": "scatter",
         "x": [
          "2014-08-31 23:00",
          "2014-09-01 00:00",
          "2014-09-01 01:00",
          "2014-09-01 02:00",
          "2014-09-01 03:00",
          "2014-09-01 04:00",
          "2014-09-01 05:00",
          "2014-09-01 06:00",
          "2014-09-01 07:00",
          "2014-09-01 08:00",
          "2014-09-01 09:00",
          "2014-09-01 10:00",
          "2014-09-01 11:00",
          "2014-09-01 12:00",
          "2014-09-01 13:00",
          "2014-09-01 14:00",
          "2014-09-01 15:00",
          "2014-09-01 16:00",
          "2014-09-01 17:00",
          "2014-09-01 18:00",
          "2014-09-01 19:00",
          "2014-09-01 20:00",
          "2014-09-01 21:00",
          "2014-09-01 22:00",
          "2014-09-01 23:00",
          "2014-09-02 00:00",
          "2014-09-02 01:00",
          "2014-09-02 02:00",
          "2014-09-02 03:00",
          "2014-09-02 04:00",
          "2014-09-02 05:00",
          "2014-09-02 06:00",
          "2014-09-02 07:00",
          "2014-09-02 08:00",
          "2014-09-02 09:00",
          "2014-09-02 10:00",
          "2014-09-02 11:00",
          "2014-09-02 12:00",
          "2014-09-02 13:00",
          "2014-09-02 14:00",
          "2014-09-02 15:00",
          "2014-09-02 16:00",
          "2014-09-02 17:00",
          "2014-09-02 18:00",
          "2014-09-02 19:00",
          "2014-09-02 20:00",
          "2014-09-02 21:00",
          "2014-09-02 22:00",
          "2014-09-02 23:00",
          "2014-09-03 00:00",
          "2014-09-03 01:00",
          "2014-09-03 02:00",
          "2014-09-03 03:00",
          "2014-09-03 04:00",
          "2014-09-03 05:00",
          "2014-09-03 06:00",
          "2014-09-03 07:00",
          "2014-09-03 08:00",
          "2014-09-03 09:00",
          "2014-09-03 10:00",
          "2014-09-03 11:00",
          "2014-09-03 12:00",
          "2014-09-03 13:00",
          "2014-09-03 14:00",
          "2014-09-03 15:00",
          "2014-09-03 16:00",
          "2014-09-03 17:00",
          "2014-09-03 18:00",
          "2014-09-03 19:00",
          "2014-09-03 20:00",
          "2014-09-03 21:00",
          "2014-09-03 22:00",
          "2014-09-03 23:00",
          "2014-09-04 00:00",
          "2014-09-04 01:00",
          "2014-09-04 02:00",
          "2014-09-04 03:00",
          "2014-09-04 04:00",
          "2014-09-04 05:00",
          "2014-09-04 06:00",
          "2014-09-04 07:00",
          "2014-09-04 08:00",
          "2014-09-04 09:00",
          "2014-09-04 10:00",
          "2014-09-04 11:00",
          "2014-09-04 12:00",
          "2014-09-04 13:00",
          "2014-09-04 14:00",
          "2014-09-04 15:00",
          "2014-09-04 16:00",
          "2014-09-04 17:00",
          "2014-09-04 18:00",
          "2014-09-04 19:00",
          "2014-09-04 20:00",
          "2014-09-04 21:00",
          "2014-09-04 22:00",
          "2014-09-04 23:00",
          "2014-09-05 00:00",
          "2014-09-05 01:00",
          "2014-09-05 02:00",
          "2014-09-05 03:00",
          "2014-09-05 04:00",
          "2014-09-05 05:00",
          "2014-09-05 06:00",
          "2014-09-05 07:00",
          "2014-09-05 08:00",
          "2014-09-05 09:00",
          "2014-09-05 10:00",
          "2014-09-05 11:00",
          "2014-09-05 12:00",
          "2014-09-05 13:00",
          "2014-09-05 14:00",
          "2014-09-05 15:00",
          "2014-09-05 16:00",
          "2014-09-05 17:00",
          "2014-09-05 18:00",
          "2014-09-05 19:00",
          "2014-09-05 20:00",
          "2014-09-05 21:00",
          "2014-09-05 22:00",
          "2014-09-05 23:00",
          "2014-09-06 00:00",
          "2014-09-06 01:00",
          "2014-09-06 02:00",
          "2014-09-06 03:00",
          "2014-09-06 04:00",
          "2014-09-06 05:00",
          "2014-09-06 06:00",
          "2014-09-06 07:00",
          "2014-09-06 08:00",
          "2014-09-06 09:00",
          "2014-09-06 10:00",
          "2014-09-06 11:00",
          "2014-09-06 12:00",
          "2014-09-06 13:00",
          "2014-09-06 14:00",
          "2014-09-06 15:00",
          "2014-09-06 16:00",
          "2014-09-06 17:00",
          "2014-09-06 18:00",
          "2014-09-06 19:00",
          "2014-09-06 20:00",
          "2014-09-06 21:00",
          "2014-09-06 22:00",
          "2014-09-06 23:00",
          "2014-09-07 00:00",
          "2014-09-07 01:00",
          "2014-09-07 02:00",
          "2014-09-07 03:00",
          "2014-09-07 04:00",
          "2014-09-07 05:00",
          "2014-09-07 06:00",
          "2014-09-07 07:00",
          "2014-09-07 08:00",
          "2014-09-07 09:00",
          "2014-09-07 10:00",
          "2014-09-07 11:00",
          "2014-09-07 12:00",
          "2014-09-07 13:00",
          "2014-09-07 14:00",
          "2014-09-07 15:00",
          "2014-09-07 16:00",
          "2014-09-07 17:00",
          "2014-09-07 18:00",
          "2014-09-07 19:00",
          "2014-09-07 20:00",
          "2014-09-07 21:00",
          "2014-09-07 22:00",
          "2014-09-07 23:00",
          "2014-09-08 00:00",
          "2014-09-08 01:00",
          "2014-09-08 02:00",
          "2014-09-08 03:00",
          "2014-09-08 04:00",
          "2014-09-08 05:00",
          "2014-09-08 06:00",
          "2014-09-08 07:00",
          "2014-09-08 08:00",
          "2014-09-08 09:00",
          "2014-09-08 10:00",
          "2014-09-08 11:00",
          "2014-09-08 12:00",
          "2014-09-08 13:00",
          "2014-09-08 14:00",
          "2014-09-08 15:00",
          "2014-09-08 16:00",
          "2014-09-08 17:00",
          "2014-09-08 18:00",
          "2014-09-08 19:00",
          "2014-09-08 20:00",
          "2014-09-08 21:00",
          "2014-09-08 22:00",
          "2014-09-08 23:00",
          "2014-09-09 00:00",
          "2014-09-09 01:00",
          "2014-09-09 02:00",
          "2014-09-09 03:00",
          "2014-09-09 04:00",
          "2014-09-09 05:00",
          "2014-09-09 06:00",
          "2014-09-09 07:00",
          "2014-09-09 08:00",
          "2014-09-09 09:00",
          "2014-09-09 10:00",
          "2014-09-09 11:00",
          "2014-09-09 12:00",
          "2014-09-09 13:00",
          "2014-09-09 14:00",
          "2014-09-09 15:00",
          "2014-09-09 16:00",
          "2014-09-09 17:00",
          "2014-09-09 18:00",
          "2014-09-09 19:00",
          "2014-09-09 20:00",
          "2014-09-09 21:00",
          "2014-09-09 22:00",
          "2014-09-09 23:00",
          "2014-09-10 00:00",
          "2014-09-10 01:00",
          "2014-09-10 02:00",
          "2014-09-10 03:00",
          "2014-09-10 04:00",
          "2014-09-10 05:00",
          "2014-09-10 06:00",
          "2014-09-10 07:00",
          "2014-09-10 08:00",
          "2014-09-10 09:00",
          "2014-09-10 10:00",
          "2014-09-10 11:00",
          "2014-09-10 12:00",
          "2014-09-10 13:00",
          "2014-09-10 14:00",
          "2014-09-10 15:00",
          "2014-09-10 16:00",
          "2014-09-10 17:00",
          "2014-09-10 18:00",
          "2014-09-10 19:00",
          "2014-09-10 20:00",
          "2014-09-10 21:00",
          "2014-09-10 22:00",
          "2014-09-10 23:00",
          "2014-09-11 00:00",
          "2014-09-11 01:00",
          "2014-09-11 02:00",
          "2014-09-11 03:00",
          "2014-09-11 04:00",
          "2014-09-11 05:00",
          "2014-09-11 06:00",
          "2014-09-11 07:00",
          "2014-09-11 08:00",
          "2014-09-11 09:00",
          "2014-09-11 10:00",
          "2014-09-11 11:00",
          "2014-09-11 12:00",
          "2014-09-11 13:00",
          "2014-09-11 14:00",
          "2014-09-11 15:00",
          "2014-09-11 16:00",
          "2014-09-11 17:00",
          "2014-09-11 18:00",
          "2014-09-11 19:00",
          "2014-09-11 20:00",
          "2014-09-11 21:00",
          "2014-09-11 22:00",
          "2014-09-11 23:00",
          "2014-09-12 00:00",
          "2014-09-12 01:00",
          "2014-09-12 02:00",
          "2014-09-12 03:00",
          "2014-09-12 04:00",
          "2014-09-12 05:00",
          "2014-09-12 06:00",
          "2014-09-12 07:00",
          "2014-09-12 08:00",
          "2014-09-12 09:00",
          "2014-09-12 10:00",
          "2014-09-12 11:00",
          "2014-09-12 12:00",
          "2014-09-12 13:00",
          "2014-09-12 14:00",
          "2014-09-12 15:00",
          "2014-09-12 16:00",
          "2014-09-12 17:00",
          "2014-09-12 18:00",
          "2014-09-12 19:00",
          "2014-09-12 20:00",
          "2014-09-12 21:00",
          "2014-09-12 22:00",
          "2014-09-12 23:00",
          "2014-09-13 00:00",
          "2014-09-13 01:00",
          "2014-09-13 02:00",
          "2014-09-13 03:00",
          "2014-09-13 04:00",
          "2014-09-13 05:00",
          "2014-09-13 06:00",
          "2014-09-13 07:00",
          "2014-09-13 08:00",
          "2014-09-13 09:00",
          "2014-09-13 10:00",
          "2014-09-13 11:00",
          "2014-09-13 12:00",
          "2014-09-13 13:00",
          "2014-09-13 14:00",
          "2014-09-13 15:00",
          "2014-09-13 16:00",
          "2014-09-13 17:00",
          "2014-09-13 18:00",
          "2014-09-13 19:00",
          "2014-09-13 20:00",
          "2014-09-13 21:00",
          "2014-09-13 22:00",
          "2014-09-13 23:00",
          "2014-09-14 00:00",
          "2014-09-14 01:00",
          "2014-09-14 02:00",
          "2014-09-14 03:00",
          "2014-09-14 04:00",
          "2014-09-14 05:00",
          "2014-09-14 06:00",
          "2014-09-14 07:00",
          "2014-09-14 08:00",
          "2014-09-14 09:00",
          "2014-09-14 10:00",
          "2014-09-14 11:00",
          "2014-09-14 12:00",
          "2014-09-14 13:00",
          "2014-09-14 14:00",
          "2014-09-14 15:00",
          "2014-09-14 16:00",
          "2014-09-14 17:00",
          "2014-09-14 18:00",
          "2014-09-14 19:00",
          "2014-09-14 20:00",
          "2014-09-14 21:00",
          "2014-09-14 22:00",
          "2014-09-14 23:00",
          "2014-09-15 00:00",
          "2014-09-15 01:00",
          "2014-09-15 02:00",
          "2014-09-15 03:00",
          "2014-09-15 04:00",
          "2014-09-15 05:00",
          "2014-09-15 06:00",
          "2014-09-15 07:00",
          "2014-09-15 08:00",
          "2014-09-15 09:00",
          "2014-09-15 10:00",
          "2014-09-15 11:00",
          "2014-09-15 12:00",
          "2014-09-15 13:00",
          "2014-09-15 14:00",
          "2014-09-15 15:00",
          "2014-09-15 16:00",
          "2014-09-15 17:00",
          "2014-09-15 18:00",
          "2014-09-15 19:00",
          "2014-09-15 20:00",
          "2014-09-15 21:00",
          "2014-09-15 22:00",
          "2014-09-15 23:00",
          "2014-09-16 00:00",
          "2014-09-16 01:00",
          "2014-09-16 02:00",
          "2014-09-16 03:00",
          "2014-09-16 04:00",
          "2014-09-16 05:00",
          "2014-09-16 06:00",
          "2014-09-16 07:00",
          "2014-09-16 08:00",
          "2014-09-16 09:00",
          "2014-09-16 10:00",
          "2014-09-16 11:00",
          "2014-09-16 12:00",
          "2014-09-16 13:00",
          "2014-09-16 14:00",
          "2014-09-16 15:00",
          "2014-09-16 16:00",
          "2014-09-16 17:00",
          "2014-09-16 18:00",
          "2014-09-16 19:00",
          "2014-09-16 20:00",
          "2014-09-16 21:00",
          "2014-09-16 22:00",
          "2014-09-16 23:00",
          "2014-09-17 00:00",
          "2014-09-17 01:00",
          "2014-09-17 02:00",
          "2014-09-17 03:00",
          "2014-09-17 04:00",
          "2014-09-17 05:00",
          "2014-09-17 06:00",
          "2014-09-17 07:00",
          "2014-09-17 08:00",
          "2014-09-17 09:00",
          "2014-09-17 10:00",
          "2014-09-17 11:00",
          "2014-09-17 12:00",
          "2014-09-17 13:00",
          "2014-09-17 14:00",
          "2014-09-17 15:00",
          "2014-09-17 16:00",
          "2014-09-17 17:00",
          "2014-09-17 18:00",
          "2014-09-17 19:00",
          "2014-09-17 20:00",
          "2014-09-17 21:00",
          "2014-09-17 22:00",
          "2014-09-17 23:00",
          "2014-09-18 00:00",
          "2014-09-18 01:00",
          "2014-09-18 02:00",
          "2014-09-18 03:00",
          "2014-09-18 04:00",
          "2014-09-18 05:00",
          "2014-09-18 06:00",
          "2014-09-18 07:00",
          "2014-09-18 08:00",
          "2014-09-18 09:00",
          "2014-09-18 10:00",
          "2014-09-18 11:00",
          "2014-09-18 12:00",
          "2014-09-18 13:00",
          "2014-09-18 14:00",
          "2014-09-18 15:00",
          "2014-09-18 16:00",
          "2014-09-18 17:00",
          "2014-09-18 18:00",
          "2014-09-18 19:00",
          "2014-09-18 20:00",
          "2014-09-18 21:00",
          "2014-09-18 22:00",
          "2014-09-18 23:00",
          "2014-09-19 00:00",
          "2014-09-19 01:00",
          "2014-09-19 02:00",
          "2014-09-19 03:00",
          "2014-09-19 04:00",
          "2014-09-19 05:00",
          "2014-09-19 06:00",
          "2014-09-19 07:00",
          "2014-09-19 08:00",
          "2014-09-19 09:00",
          "2014-09-19 10:00",
          "2014-09-19 11:00",
          "2014-09-19 12:00",
          "2014-09-19 13:00",
          "2014-09-19 14:00",
          "2014-09-19 15:00",
          "2014-09-19 16:00",
          "2014-09-19 17:00",
          "2014-09-19 18:00",
          "2014-09-19 19:00",
          "2014-09-19 20:00",
          "2014-09-19 21:00",
          "2014-09-19 22:00",
          "2014-09-19 23:00",
          "2014-09-20 00:00",
          "2014-09-20 01:00",
          "2014-09-20 02:00",
          "2014-09-20 03:00",
          "2014-09-20 04:00",
          "2014-09-20 05:00",
          "2014-09-20 06:00",
          "2014-09-20 07:00",
          "2014-09-20 08:00",
          "2014-09-20 09:00",
          "2014-09-20 10:00",
          "2014-09-20 11:00",
          "2014-09-20 12:00",
          "2014-09-20 13:00",
          "2014-09-20 14:00",
          "2014-09-20 15:00",
          "2014-09-20 16:00",
          "2014-09-20 17:00",
          "2014-09-20 18:00",
          "2014-09-20 19:00",
          "2014-09-20 20:00",
          "2014-09-20 21:00",
          "2014-09-20 22:00",
          "2014-09-20 23:00"
         ],
         "xaxis": "x",
         "y": [
          2.8,
          5.6,
          2.6,
          0.2,
          0.2,
          0,
          0,
          0,
          0,
          0,
          0,
          0,
          0,
          0,
          0,
          0,
          0,
          0,
          0,
          0,
          0,
          0,
          0,
          0,
          0,
          0,
          0.6,
          0,
          0.2,
          0,
          0,
          0,
          0,
          0,
          0,
          0,
          0,
          0,
          0,
          0,
          0,
          0,
          0,
          0,
          0,
          0,
          0,
          0,
          0,
          0,
          0.4,
          0,
          0.2,
          0.2,
          0.4,
          0,
          0.8,
          0.2,
          0.2,
          0,
          0.4,
          0,
          0.2,
          0,
          0,
          0,
          0,
          0,
          0,
          0,
          0,
          0,
          0,
          0,
          0.4,
          0,
          0,
          0,
          0.2,
          0,
          0,
          0,
          0,
          0,
          0,
          0,
          0,
          0,
          0,
          0,
          0,
          0,
          0,
          0,
          0,
          0.2,
          0,
          0,
          0.8,
          0,
          0,
          0,
          0,
          0,
          0.2,
          0,
          0,
          0,
          0,
          0,
          0,
          0,
          0,
          0,
          0,
          0,
          0,
          0,
          0,
          0,
          0,
          0,
          0.2,
          0.2,
          0,
          0,
          0,
          0,
          0,
          0,
          0,
          0,
          0,
          0,
          0,
          0,
          0,
          0,
          0,
          0,
          0,
          0,
          0,
          0,
          0,
          0,
          0.4,
          0.2,
          0,
          0,
          0,
          0,
          0,
          0,
          0,
          0,
          0,
          0,
          0,
          0,
          0,
          0,
          0,
          0,
          0,
          0,
          0,
          0,
          0,
          0,
          0,
          0,
          0,
          0,
          0,
          0,
          0.2,
          0,
          0,
          0,
          0,
          0,
          0,
          0,
          0,
          0,
          0,
          0,
          0,
          0,
          0,
          0,
          0,
          0,
          0,
          0,
          0,
          0,
          0,
          0,
          0,
          0,
          0,
          0,
          0,
          0,
          0,
          0,
          0,
          0,
          0,
          0,
          0,
          0,
          25.8,
          2.8,
          3,
          3.2,
          0.6,
          0,
          11.4,
          1.6,
          0.8,
          0,
          0,
          0,
          0,
          0.2,
          0,
          0,
          0,
          0,
          0,
          0,
          0,
          0,
          0,
          0,
          0,
          0,
          0,
          0.8,
          23.2,
          4,
          0.2,
          0,
          0.2,
          0,
          0,
          0,
          0,
          0,
          0,
          0,
          0,
          0,
          0,
          0,
          0,
          0,
          0,
          2.6,
          0.2,
          0,
          0.8,
          2.2,
          1,
          0,
          0,
          0,
          0,
          0,
          0.2,
          0,
          0,
          0,
          0,
          0,
          0,
          0,
          0,
          0,
          0,
          0,
          0,
          0,
          0.8,
          0,
          0,
          0,
          0,
          0,
          0,
          0,
          0,
          0,
          0,
          0,
          0,
          0,
          0,
          0,
          0,
          0,
          0,
          0,
          0,
          0,
          0,
          0,
          0,
          0,
          0,
          0,
          0,
          0,
          0,
          0,
          0,
          0,
          0,
          0,
          0,
          0,
          0,
          0,
          0,
          0,
          0,
          0,
          0,
          0,
          0,
          0,
          0,
          0,
          0,
          0,
          0,
          0,
          0,
          0,
          0,
          0,
          0,
          0,
          0,
          0,
          0,
          0,
          0,
          0,
          0,
          0,
          0,
          0,
          0,
          0,
          0,
          0,
          0,
          0,
          0,
          0,
          0,
          0,
          0,
          0,
          0,
          0,
          0,
          0,
          0,
          0,
          0,
          0,
          0,
          0,
          0,
          0,
          0,
          0,
          0,
          0,
          0,
          0,
          0,
          0,
          0,
          0,
          0,
          0,
          0,
          0,
          0,
          0,
          0,
          0,
          0,
          0,
          0,
          0,
          0,
          0,
          0,
          0,
          0,
          0,
          0,
          0,
          0,
          0,
          0,
          0,
          0,
          0,
          0,
          0,
          0,
          0,
          0,
          0,
          0,
          0,
          0,
          0,
          0,
          0,
          0,
          0,
          0,
          0,
          0,
          0,
          0,
          0,
          0,
          0,
          0,
          0,
          0,
          0,
          0,
          0,
          0,
          0,
          0,
          0,
          0,
          0,
          0,
          0,
          0,
          0,
          0,
          0,
          0,
          0,
          0,
          0,
          0,
          0.2,
          0.2,
          0,
          0,
          0.2,
          0,
          0,
          0,
          0,
          0.4,
          1,
          0,
          0,
          0,
          0,
          0,
          0,
          0,
          0,
          0
         ],
         "yaxis": "y"
        }
       ],
       "layout": {
        "autosize": true,
        "legend": {
         "tracegroupgap": 0
        },
        "template": {
         "data": {
          "bar": [
           {
            "error_x": {
             "color": "#2a3f5f"
            },
            "error_y": {
             "color": "#2a3f5f"
            },
            "marker": {
             "line": {
              "color": "#E5ECF6",
              "width": 0.5
             },
             "pattern": {
              "fillmode": "overlay",
              "size": 10,
              "solidity": 0.2
             }
            },
            "type": "bar"
           }
          ],
          "barpolar": [
           {
            "marker": {
             "line": {
              "color": "#E5ECF6",
              "width": 0.5
             },
             "pattern": {
              "fillmode": "overlay",
              "size": 10,
              "solidity": 0.2
             }
            },
            "type": "barpolar"
           }
          ],
          "carpet": [
           {
            "aaxis": {
             "endlinecolor": "#2a3f5f",
             "gridcolor": "white",
             "linecolor": "white",
             "minorgridcolor": "white",
             "startlinecolor": "#2a3f5f"
            },
            "baxis": {
             "endlinecolor": "#2a3f5f",
             "gridcolor": "white",
             "linecolor": "white",
             "minorgridcolor": "white",
             "startlinecolor": "#2a3f5f"
            },
            "type": "carpet"
           }
          ],
          "choropleth": [
           {
            "colorbar": {
             "outlinewidth": 0,
             "ticks": ""
            },
            "type": "choropleth"
           }
          ],
          "contour": [
           {
            "colorbar": {
             "outlinewidth": 0,
             "ticks": ""
            },
            "colorscale": [
             [
              0,
              "#0d0887"
             ],
             [
              0.1111111111111111,
              "#46039f"
             ],
             [
              0.2222222222222222,
              "#7201a8"
             ],
             [
              0.3333333333333333,
              "#9c179e"
             ],
             [
              0.4444444444444444,
              "#bd3786"
             ],
             [
              0.5555555555555556,
              "#d8576b"
             ],
             [
              0.6666666666666666,
              "#ed7953"
             ],
             [
              0.7777777777777778,
              "#fb9f3a"
             ],
             [
              0.8888888888888888,
              "#fdca26"
             ],
             [
              1,
              "#f0f921"
             ]
            ],
            "type": "contour"
           }
          ],
          "contourcarpet": [
           {
            "colorbar": {
             "outlinewidth": 0,
             "ticks": ""
            },
            "type": "contourcarpet"
           }
          ],
          "heatmap": [
           {
            "colorbar": {
             "outlinewidth": 0,
             "ticks": ""
            },
            "colorscale": [
             [
              0,
              "#0d0887"
             ],
             [
              0.1111111111111111,
              "#46039f"
             ],
             [
              0.2222222222222222,
              "#7201a8"
             ],
             [
              0.3333333333333333,
              "#9c179e"
             ],
             [
              0.4444444444444444,
              "#bd3786"
             ],
             [
              0.5555555555555556,
              "#d8576b"
             ],
             [
              0.6666666666666666,
              "#ed7953"
             ],
             [
              0.7777777777777778,
              "#fb9f3a"
             ],
             [
              0.8888888888888888,
              "#fdca26"
             ],
             [
              1,
              "#f0f921"
             ]
            ],
            "type": "heatmap"
           }
          ],
          "heatmapgl": [
           {
            "colorbar": {
             "outlinewidth": 0,
             "ticks": ""
            },
            "colorscale": [
             [
              0,
              "#0d0887"
             ],
             [
              0.1111111111111111,
              "#46039f"
             ],
             [
              0.2222222222222222,
              "#7201a8"
             ],
             [
              0.3333333333333333,
              "#9c179e"
             ],
             [
              0.4444444444444444,
              "#bd3786"
             ],
             [
              0.5555555555555556,
              "#d8576b"
             ],
             [
              0.6666666666666666,
              "#ed7953"
             ],
             [
              0.7777777777777778,
              "#fb9f3a"
             ],
             [
              0.8888888888888888,
              "#fdca26"
             ],
             [
              1,
              "#f0f921"
             ]
            ],
            "type": "heatmapgl"
           }
          ],
          "histogram": [
           {
            "marker": {
             "pattern": {
              "fillmode": "overlay",
              "size": 10,
              "solidity": 0.2
             }
            },
            "type": "histogram"
           }
          ],
          "histogram2d": [
           {
            "colorbar": {
             "outlinewidth": 0,
             "ticks": ""
            },
            "colorscale": [
             [
              0,
              "#0d0887"
             ],
             [
              0.1111111111111111,
              "#46039f"
             ],
             [
              0.2222222222222222,
              "#7201a8"
             ],
             [
              0.3333333333333333,
              "#9c179e"
             ],
             [
              0.4444444444444444,
              "#bd3786"
             ],
             [
              0.5555555555555556,
              "#d8576b"
             ],
             [
              0.6666666666666666,
              "#ed7953"
             ],
             [
              0.7777777777777778,
              "#fb9f3a"
             ],
             [
              0.8888888888888888,
              "#fdca26"
             ],
             [
              1,
              "#f0f921"
             ]
            ],
            "type": "histogram2d"
           }
          ],
          "histogram2dcontour": [
           {
            "colorbar": {
             "outlinewidth": 0,
             "ticks": ""
            },
            "colorscale": [
             [
              0,
              "#0d0887"
             ],
             [
              0.1111111111111111,
              "#46039f"
             ],
             [
              0.2222222222222222,
              "#7201a8"
             ],
             [
              0.3333333333333333,
              "#9c179e"
             ],
             [
              0.4444444444444444,
              "#bd3786"
             ],
             [
              0.5555555555555556,
              "#d8576b"
             ],
             [
              0.6666666666666666,
              "#ed7953"
             ],
             [
              0.7777777777777778,
              "#fb9f3a"
             ],
             [
              0.8888888888888888,
              "#fdca26"
             ],
             [
              1,
              "#f0f921"
             ]
            ],
            "type": "histogram2dcontour"
           }
          ],
          "mesh3d": [
           {
            "colorbar": {
             "outlinewidth": 0,
             "ticks": ""
            },
            "type": "mesh3d"
           }
          ],
          "parcoords": [
           {
            "line": {
             "colorbar": {
              "outlinewidth": 0,
              "ticks": ""
             }
            },
            "type": "parcoords"
           }
          ],
          "pie": [
           {
            "automargin": true,
            "type": "pie"
           }
          ],
          "scatter": [
           {
            "marker": {
             "colorbar": {
              "outlinewidth": 0,
              "ticks": ""
             }
            },
            "type": "scatter"
           }
          ],
          "scatter3d": [
           {
            "line": {
             "colorbar": {
              "outlinewidth": 0,
              "ticks": ""
             }
            },
            "marker": {
             "colorbar": {
              "outlinewidth": 0,
              "ticks": ""
             }
            },
            "type": "scatter3d"
           }
          ],
          "scattercarpet": [
           {
            "marker": {
             "colorbar": {
              "outlinewidth": 0,
              "ticks": ""
             }
            },
            "type": "scattercarpet"
           }
          ],
          "scattergeo": [
           {
            "marker": {
             "colorbar": {
              "outlinewidth": 0,
              "ticks": ""
             }
            },
            "type": "scattergeo"
           }
          ],
          "scattergl": [
           {
            "marker": {
             "colorbar": {
              "outlinewidth": 0,
              "ticks": ""
             }
            },
            "type": "scattergl"
           }
          ],
          "scattermapbox": [
           {
            "marker": {
             "colorbar": {
              "outlinewidth": 0,
              "ticks": ""
             }
            },
            "type": "scattermapbox"
           }
          ],
          "scatterpolar": [
           {
            "marker": {
             "colorbar": {
              "outlinewidth": 0,
              "ticks": ""
             }
            },
            "type": "scatterpolar"
           }
          ],
          "scatterpolargl": [
           {
            "marker": {
             "colorbar": {
              "outlinewidth": 0,
              "ticks": ""
             }
            },
            "type": "scatterpolargl"
           }
          ],
          "scatterternary": [
           {
            "marker": {
             "colorbar": {
              "outlinewidth": 0,
              "ticks": ""
             }
            },
            "type": "scatterternary"
           }
          ],
          "surface": [
           {
            "colorbar": {
             "outlinewidth": 0,
             "ticks": ""
            },
            "colorscale": [
             [
              0,
              "#0d0887"
             ],
             [
              0.1111111111111111,
              "#46039f"
             ],
             [
              0.2222222222222222,
              "#7201a8"
             ],
             [
              0.3333333333333333,
              "#9c179e"
             ],
             [
              0.4444444444444444,
              "#bd3786"
             ],
             [
              0.5555555555555556,
              "#d8576b"
             ],
             [
              0.6666666666666666,
              "#ed7953"
             ],
             [
              0.7777777777777778,
              "#fb9f3a"
             ],
             [
              0.8888888888888888,
              "#fdca26"
             ],
             [
              1,
              "#f0f921"
             ]
            ],
            "type": "surface"
           }
          ],
          "table": [
           {
            "cells": {
             "fill": {
              "color": "#EBF0F8"
             },
             "line": {
              "color": "white"
             }
            },
            "header": {
             "fill": {
              "color": "#C8D4E3"
             },
             "line": {
              "color": "white"
             }
            },
            "type": "table"
           }
          ]
         },
         "layout": {
          "annotationdefaults": {
           "arrowcolor": "#2a3f5f",
           "arrowhead": 0,
           "arrowwidth": 1
          },
          "autotypenumbers": "strict",
          "coloraxis": {
           "colorbar": {
            "outlinewidth": 0,
            "ticks": ""
           }
          },
          "colorscale": {
           "diverging": [
            [
             0,
             "#8e0152"
            ],
            [
             0.1,
             "#c51b7d"
            ],
            [
             0.2,
             "#de77ae"
            ],
            [
             0.3,
             "#f1b6da"
            ],
            [
             0.4,
             "#fde0ef"
            ],
            [
             0.5,
             "#f7f7f7"
            ],
            [
             0.6,
             "#e6f5d0"
            ],
            [
             0.7,
             "#b8e186"
            ],
            [
             0.8,
             "#7fbc41"
            ],
            [
             0.9,
             "#4d9221"
            ],
            [
             1,
             "#276419"
            ]
           ],
           "sequential": [
            [
             0,
             "#0d0887"
            ],
            [
             0.1111111111111111,
             "#46039f"
            ],
            [
             0.2222222222222222,
             "#7201a8"
            ],
            [
             0.3333333333333333,
             "#9c179e"
            ],
            [
             0.4444444444444444,
             "#bd3786"
            ],
            [
             0.5555555555555556,
             "#d8576b"
            ],
            [
             0.6666666666666666,
             "#ed7953"
            ],
            [
             0.7777777777777778,
             "#fb9f3a"
            ],
            [
             0.8888888888888888,
             "#fdca26"
            ],
            [
             1,
             "#f0f921"
            ]
           ],
           "sequentialminus": [
            [
             0,
             "#0d0887"
            ],
            [
             0.1111111111111111,
             "#46039f"
            ],
            [
             0.2222222222222222,
             "#7201a8"
            ],
            [
             0.3333333333333333,
             "#9c179e"
            ],
            [
             0.4444444444444444,
             "#bd3786"
            ],
            [
             0.5555555555555556,
             "#d8576b"
            ],
            [
             0.6666666666666666,
             "#ed7953"
            ],
            [
             0.7777777777777778,
             "#fb9f3a"
            ],
            [
             0.8888888888888888,
             "#fdca26"
            ],
            [
             1,
             "#f0f921"
            ]
           ]
          },
          "colorway": [
           "#636efa",
           "#EF553B",
           "#00cc96",
           "#ab63fa",
           "#FFA15A",
           "#19d3f3",
           "#FF6692",
           "#B6E880",
           "#FF97FF",
           "#FECB52"
          ],
          "font": {
           "color": "#2a3f5f"
          },
          "geo": {
           "bgcolor": "white",
           "lakecolor": "white",
           "landcolor": "#E5ECF6",
           "showlakes": true,
           "showland": true,
           "subunitcolor": "white"
          },
          "hoverlabel": {
           "align": "left"
          },
          "hovermode": "closest",
          "mapbox": {
           "style": "light"
          },
          "paper_bgcolor": "white",
          "plot_bgcolor": "#E5ECF6",
          "polar": {
           "angularaxis": {
            "gridcolor": "white",
            "linecolor": "white",
            "ticks": ""
           },
           "bgcolor": "#E5ECF6",
           "radialaxis": {
            "gridcolor": "white",
            "linecolor": "white",
            "ticks": ""
           }
          },
          "scene": {
           "xaxis": {
            "backgroundcolor": "#E5ECF6",
            "gridcolor": "white",
            "gridwidth": 2,
            "linecolor": "white",
            "showbackground": true,
            "ticks": "",
            "zerolinecolor": "white"
           },
           "yaxis": {
            "backgroundcolor": "#E5ECF6",
            "gridcolor": "white",
            "gridwidth": 2,
            "linecolor": "white",
            "showbackground": true,
            "ticks": "",
            "zerolinecolor": "white"
           },
           "zaxis": {
            "backgroundcolor": "#E5ECF6",
            "gridcolor": "white",
            "gridwidth": 2,
            "linecolor": "white",
            "showbackground": true,
            "ticks": "",
            "zerolinecolor": "white"
           }
          },
          "shapedefaults": {
           "line": {
            "color": "#2a3f5f"
           }
          },
          "ternary": {
           "aaxis": {
            "gridcolor": "white",
            "linecolor": "white",
            "ticks": ""
           },
           "baxis": {
            "gridcolor": "white",
            "linecolor": "white",
            "ticks": ""
           },
           "bgcolor": "#E5ECF6",
           "caxis": {
            "gridcolor": "white",
            "linecolor": "white",
            "ticks": ""
           }
          },
          "title": {
           "x": 0.05
          },
          "xaxis": {
           "automargin": true,
           "gridcolor": "white",
           "linecolor": "white",
           "ticks": "",
           "title": {
            "standoff": 15
           },
           "zerolinecolor": "white",
           "zerolinewidth": 2
          },
          "yaxis": {
           "automargin": true,
           "gridcolor": "white",
           "linecolor": "white",
           "ticks": "",
           "title": {
            "standoff": 15
           },
           "zerolinecolor": "white",
           "zerolinewidth": 2
          }
         }
        },
        "title": {
         "text": "Precipitazioni"
        },
        "xaxis": {
         "anchor": "y",
         "autorange": true,
         "domain": [
          0,
          1
         ],
         "range": [
          "2014-08-31 23:00",
          "2014-09-20 23:00"
         ],
         "rangeslider": {
          "autorange": true,
          "range": [
           "2014-08-31 23:00",
           "2014-09-20 23:00"
          ],
          "visible": true,
          "yaxis": {
           "_template": null,
           "rangemode": "match"
          }
         },
         "title": {
          "text": "data"
         },
         "type": "date"
        },
        "yaxis": {
         "anchor": "x",
         "autorange": true,
         "domain": [
          0,
          1
         ],
         "range": [
          -1.4333333333333336,
          27.233333333333334
         ],
         "title": {
          "text": "precipitazione [mm]"
         },
         "type": "linear"
        }
       }
      },
      "image/png": "[encoded data removed]",
      "text/html": [
       "<div>                            <div id=\"e5285fd0-b73d-4858-9669-38aabd3abf49\" class=\"plotly-graph-div\" style=\"height:525px; width:100%;\"></div>            <script type=\"text/javascript\">                require([\"plotly\"], function(Plotly) {                    window.PLOTLYENV=window.PLOTLYENV || {};                                    if (document.getElementById(\"e5285fd0-b73d-4858-9669-38aabd3abf49\")) {                    Plotly.newPlot(                        \"e5285fd0-b73d-4858-9669-38aabd3abf49\",                        [{\"hovertemplate\":\"data=%{x}<br>precipitazione [mm]=%{y}<extra></extra>\",\"legendgroup\":\"\",\"line\":{\"color\":\"#636efa\",\"dash\":\"solid\"},\"marker\":{\"symbol\":\"circle\"},\"mode\":\"lines\",\"name\":\"\",\"orientation\":\"v\",\"showlegend\":false,\"x\":[\"2014-08-31 23:00\",\"2014-09-01 00:00\",\"2014-09-01 01:00\",\"2014-09-01 02:00\",\"2014-09-01 03:00\",\"2014-09-01 04:00\",\"2014-09-01 05:00\",\"2014-09-01 06:00\",\"2014-09-01 07:00\",\"2014-09-01 08:00\",\"2014-09-01 09:00\",\"2014-09-01 10:00\",\"2014-09-01 11:00\",\"2014-09-01 12:00\",\"2014-09-01 13:00\",\"2014-09-01 14:00\",\"2014-09-01 15:00\",\"2014-09-01 16:00\",\"2014-09-01 17:00\",\"2014-09-01 18:00\",\"2014-09-01 19:00\",\"2014-09-01 20:00\",\"2014-09-01 21:00\",\"2014-09-01 22:00\",\"2014-09-01 23:00\",\"2014-09-02 00:00\",\"2014-09-02 01:00\",\"2014-09-02 02:00\",\"2014-09-02 03:00\",\"2014-09-02 04:00\",\"2014-09-02 05:00\",\"2014-09-02 06:00\",\"2014-09-02 07:00\",\"2014-09-02 08:00\",\"2014-09-02 09:00\",\"2014-09-02 10:00\",\"2014-09-02 11:00\",\"2014-09-02 12:00\",\"2014-09-02 13:00\",\"2014-09-02 14:00\",\"2014-09-02 15:00\",\"2014-09-02 16:00\",\"2014-09-02 17:00\",\"2014-09-02 18:00\",\"2014-09-02 19:00\",\"2014-09-02 20:00\",\"2014-09-02 21:00\",\"2014-09-02 22:00\",\"2014-09-02 23:00\",\"2014-09-03 00:00\",\"2014-09-03 01:00\",\"2014-09-03 02:00\",\"2014-09-03 03:00\",\"2014-09-03 04:00\",\"2014-09-03 05:00\",\"2014-09-03 06:00\",\"2014-09-03 07:00\",\"2014-09-03 08:00\",\"2014-09-03 09:00\",\"2014-09-03 10:00\",\"2014-09-03 11:00\",\"2014-09-03 12:00\",\"2014-09-03 13:00\",\"2014-09-03 14:00\",\"2014-09-03 15:00\",\"2014-09-03 16:00\",\"2014-09-03 17:00\",\"2014-09-03 18:00\",\"2014-09-03 19:00\",\"2014-09-03 20:00\",\"2014-09-03 21:00\",\"2014-09-03 22:00\",\"2014-09-03 23:00\",\"2014-09-04 00:00\",\"2014-09-04 01:00\",\"2014-09-04 02:00\",\"2014-09-04 03:00\",\"2014-09-04 04:00\",\"2014-09-04 05:00\",\"2014-09-04 06:00\",\"2014-09-04 07:00\",\"2014-09-04 08:00\",\"2014-09-04 09:00\",\"2014-09-04 10:00\",\"2014-09-04 11:00\",\"2014-09-04 12:00\",\"2014-09-04 13:00\",\"2014-09-04 14:00\",\"2014-09-04 15:00\",\"2014-09-04 16:00\",\"2014-09-04 17:00\",\"2014-09-04 18:00\",\"2014-09-04 19:00\",\"2014-09-04 20:00\",\"2014-09-04 21:00\",\"2014-09-04 22:00\",\"2014-09-04 23:00\",\"2014-09-05 00:00\",\"2014-09-05 01:00\",\"2014-09-05 02:00\",\"2014-09-05 03:00\",\"2014-09-05 04:00\",\"2014-09-05 05:00\",\"2014-09-05 06:00\",\"2014-09-05 07:00\",\"2014-09-05 08:00\",\"2014-09-05 09:00\",\"2014-09-05 10:00\",\"2014-09-05 11:00\",\"2014-09-05 12:00\",\"2014-09-05 13:00\",\"2014-09-05 14:00\",\"2014-09-05 15:00\",\"2014-09-05 16:00\",\"2014-09-05 17:00\",\"2014-09-05 18:00\",\"2014-09-05 19:00\",\"2014-09-05 20:00\",\"2014-09-05 21:00\",\"2014-09-05 22:00\",\"2014-09-05 23:00\",\"2014-09-06 00:00\",\"2014-09-06 01:00\",\"2014-09-06 02:00\",\"2014-09-06 03:00\",\"2014-09-06 04:00\",\"2014-09-06 05:00\",\"2014-09-06 06:00\",\"2014-09-06 07:00\",\"2014-09-06 08:00\",\"2014-09-06 09:00\",\"2014-09-06 10:00\",\"2014-09-06 11:00\",\"2014-09-06 12:00\",\"2014-09-06 13:00\",\"2014-09-06 14:00\",\"2014-09-06 15:00\",\"2014-09-06 16:00\",\"2014-09-06 17:00\",\"2014-09-06 18:00\",\"2014-09-06 19:00\",\"2014-09-06 20:00\",\"2014-09-06 21:00\",\"2014-09-06 22:00\",\"2014-09-06 23:00\",\"2014-09-07 00:00\",\"2014-09-07 01:00\",\"2014-09-07 02:00\",\"2014-09-07 03:00\",\"2014-09-07 04:00\",\"2014-09-07 05:00\",\"2014-09-07 06:00\",\"2014-09-07 07:00\",\"2014-09-07 08:00\",\"2014-09-07 09:00\",\"2014-09-07 10:00\",\"2014-09-07 11:00\",\"2014-09-07 12:00\",\"2014-09-07 13:00\",\"2014-09-07 14:00\",\"2014-09-07 15:00\",\"2014-09-07 16:00\",\"2014-09-07 17:00\",\"2014-09-07 18:00\",\"2014-09-07 19:00\",\"2014-09-07 20:00\",\"2014-09-07 21:00\",\"2014-09-07 22:00\",\"2014-09-07 23:00\",\"2014-09-08 00:00\",\"2014-09-08 01:00\",\"2014-09-08 02:00\",\"2014-09-08 03:00\",\"2014-09-08 04:00\",\"2014-09-08 05:00\",\"2014-09-08 06:00\",\"2014-09-08 07:00\",\"2014-09-08 08:00\",\"2014-09-08 09:00\",\"2014-09-08 10:00\",\"2014-09-08 11:00\",\"2014-09-08 12:00\",\"2014-09-08 13:00\",\"2014-09-08 14:00\",\"2014-09-08 15:00\",\"2014-09-08 16:00\",\"2014-09-08 17:00\",\"2014-09-08 18:00\",\"2014-09-08 19:00\",\"2014-09-08 20:00\",\"2014-09-08 21:00\",\"2014-09-08 22:00\",\"2014-09-08 23:00\",\"2014-09-09 00:00\",\"2014-09-09 01:00\",\"2014-09-09 02:00\",\"2014-09-09 03:00\",\"2014-09-09 04:00\",\"2014-09-09 05:00\",\"2014-09-09 06:00\",\"2014-09-09 07:00\",\"2014-09-09 08:00\",\"2014-09-09 09:00\",\"2014-09-09 10:00\",\"2014-09-09 11:00\",\"2014-09-09 12:00\",\"2014-09-09 13:00\",\"2014-09-09 14:00\",\"2014-09-09 15:00\",\"2014-09-09 16:00\",\"2014-09-09 17:00\",\"2014-09-09 18:00\",\"2014-09-09 19:00\",\"2014-09-09 20:00\",\"2014-09-09 21:00\",\"2014-09-09 22:00\",\"2014-09-09 23:00\",\"2014-09-10 00:00\",\"2014-09-10 01:00\",\"2014-09-10 02:00\",\"2014-09-10 03:00\",\"2014-09-10 04:00\",\"2014-09-10 05:00\",\"2014-09-10 06:00\",\"2014-09-10 07:00\",\"2014-09-10 08:00\",\"2014-09-10 09:00\",\"2014-09-10 10:00\",\"2014-09-10 11:00\",\"2014-09-10 12:00\",\"2014-09-10 13:00\",\"2014-09-10 14:00\",\"2014-09-10 15:00\",\"2014-09-10 16:00\",\"2014-09-10 17:00\",\"2014-09-10 18:00\",\"2014-09-10 19:00\",\"2014-09-10 20:00\",\"2014-09-10 21:00\",\"2014-09-10 22:00\",\"2014-09-10 23:00\",\"2014-09-11 00:00\",\"2014-09-11 01:00\",\"2014-09-11 02:00\",\"2014-09-11 03:00\",\"2014-09-11 04:00\",\"2014-09-11 05:00\",\"2014-09-11 06:00\",\"2014-09-11 07:00\",\"2014-09-11 08:00\",\"2014-09-11 09:00\",\"2014-09-11 10:00\",\"2014-09-11 11:00\",\"2014-09-11 12:00\",\"2014-09-11 13:00\",\"2014-09-11 14:00\",\"2014-09-11 15:00\",\"2014-09-11 16:00\",\"2014-09-11 17:00\",\"2014-09-11 18:00\",\"2014-09-11 19:00\",\"2014-09-11 20:00\",\"2014-09-11 21:00\",\"2014-09-11 22:00\",\"2014-09-11 23:00\",\"2014-09-12 00:00\",\"2014-09-12 01:00\",\"2014-09-12 02:00\",\"2014-09-12 03:00\",\"2014-09-12 04:00\",\"2014-09-12 05:00\",\"2014-09-12 06:00\",\"2014-09-12 07:00\",\"2014-09-12 08:00\",\"2014-09-12 09:00\",\"2014-09-12 10:00\",\"2014-09-12 11:00\",\"2014-09-12 12:00\",\"2014-09-12 13:00\",\"2014-09-12 14:00\",\"2014-09-12 15:00\",\"2014-09-12 16:00\",\"2014-09-12 17:00\",\"2014-09-12 18:00\",\"2014-09-12 19:00\",\"2014-09-12 20:00\",\"2014-09-12 21:00\",\"2014-09-12 22:00\",\"2014-09-12 23:00\",\"2014-09-13 00:00\",\"2014-09-13 01:00\",\"2014-09-13 02:00\",\"2014-09-13 03:00\",\"2014-09-13 04:00\",\"2014-09-13 05:00\",\"2014-09-13 06:00\",\"2014-09-13 07:00\",\"2014-09-13 08:00\",\"2014-09-13 09:00\",\"2014-09-13 10:00\",\"2014-09-13 11:00\",\"2014-09-13 12:00\",\"2014-09-13 13:00\",\"2014-09-13 14:00\",\"2014-09-13 15:00\",\"2014-09-13 16:00\",\"2014-09-13 17:00\",\"2014-09-13 18:00\",\"2014-09-13 19:00\",\"2014-09-13 20:00\",\"2014-09-13 21:00\",\"2014-09-13 22:00\",\"2014-09-13 23:00\",\"2014-09-14 00:00\",\"2014-09-14 01:00\",\"2014-09-14 02:00\",\"2014-09-14 03:00\",\"2014-09-14 04:00\",\"2014-09-14 05:00\",\"2014-09-14 06:00\",\"2014-09-14 07:00\",\"2014-09-14 08:00\",\"2014-09-14 09:00\",\"2014-09-14 10:00\",\"2014-09-14 11:00\",\"2014-09-14 12:00\",\"2014-09-14 13:00\",\"2014-09-14 14:00\",\"2014-09-14 15:00\",\"2014-09-14 16:00\",\"2014-09-14 17:00\",\"2014-09-14 18:00\",\"2014-09-14 19:00\",\"2014-09-14 20:00\",\"2014-09-14 21:00\",\"2014-09-14 22:00\",\"2014-09-14 23:00\",\"2014-09-15 00:00\",\"2014-09-15 01:00\",\"2014-09-15 02:00\",\"2014-09-15 03:00\",\"2014-09-15 04:00\",\"2014-09-15 05:00\",\"2014-09-15 06:00\",\"2014-09-15 07:00\",\"2014-09-15 08:00\",\"2014-09-15 09:00\",\"2014-09-15 10:00\",\"2014-09-15 11:00\",\"2014-09-15 12:00\",\"2014-09-15 13:00\",\"2014-09-15 14:00\",\"2014-09-15 15:00\",\"2014-09-15 16:00\",\"2014-09-15 17:00\",\"2014-09-15 18:00\",\"2014-09-15 19:00\",\"2014-09-15 20:00\",\"2014-09-15 21:00\",\"2014-09-15 22:00\",\"2014-09-15 23:00\",\"2014-09-16 00:00\",\"2014-09-16 01:00\",\"2014-09-16 02:00\",\"2014-09-16 03:00\",\"2014-09-16 04:00\",\"2014-09-16 05:00\",\"2014-09-16 06:00\",\"2014-09-16 07:00\",\"2014-09-16 08:00\",\"2014-09-16 09:00\",\"2014-09-16 10:00\",\"2014-09-16 11:00\",\"2014-09-16 12:00\",\"2014-09-16 13:00\",\"2014-09-16 14:00\",\"2014-09-16 15:00\",\"2014-09-16 16:00\",\"2014-09-16 17:00\",\"2014-09-16 18:00\",\"2014-09-16 19:00\",\"2014-09-16 20:00\",\"2014-09-16 21:00\",\"2014-09-16 22:00\",\"2014-09-16 23:00\",\"2014-09-17 00:00\",\"2014-09-17 01:00\",\"2014-09-17 02:00\",\"2014-09-17 03:00\",\"2014-09-17 04:00\",\"2014-09-17 05:00\",\"2014-09-17 06:00\",\"2014-09-17 07:00\",\"2014-09-17 08:00\",\"2014-09-17 09:00\",\"2014-09-17 10:00\",\"2014-09-17 11:00\",\"2014-09-17 12:00\",\"2014-09-17 13:00\",\"2014-09-17 14:00\",\"2014-09-17 15:00\",\"2014-09-17 16:00\",\"2014-09-17 17:00\",\"2014-09-17 18:00\",\"2014-09-17 19:00\",\"2014-09-17 20:00\",\"2014-09-17 21:00\",\"2014-09-17 22:00\",\"2014-09-17 23:00\",\"2014-09-18 00:00\",\"2014-09-18 01:00\",\"2014-09-18 02:00\",\"2014-09-18 03:00\",\"2014-09-18 04:00\",\"2014-09-18 05:00\",\"2014-09-18 06:00\",\"2014-09-18 07:00\",\"2014-09-18 08:00\",\"2014-09-18 09:00\",\"2014-09-18 10:00\",\"2014-09-18 11:00\",\"2014-09-18 12:00\",\"2014-09-18 13:00\",\"2014-09-18 14:00\",\"2014-09-18 15:00\",\"2014-09-18 16:00\",\"2014-09-18 17:00\",\"2014-09-18 18:00\",\"2014-09-18 19:00\",\"2014-09-18 20:00\",\"2014-09-18 21:00\",\"2014-09-18 22:00\",\"2014-09-18 23:00\",\"2014-09-19 00:00\",\"2014-09-19 01:00\",\"2014-09-19 02:00\",\"2014-09-19 03:00\",\"2014-09-19 04:00\",\"2014-09-19 05:00\",\"2014-09-19 06:00\",\"2014-09-19 07:00\",\"2014-09-19 08:00\",\"2014-09-19 09:00\",\"2014-09-19 10:00\",\"2014-09-19 11:00\",\"2014-09-19 12:00\",\"2014-09-19 13:00\",\"2014-09-19 14:00\",\"2014-09-19 15:00\",\"2014-09-19 16:00\",\"2014-09-19 17:00\",\"2014-09-19 18:00\",\"2014-09-19 19:00\",\"2014-09-19 20:00\",\"2014-09-19 21:00\",\"2014-09-19 22:00\",\"2014-09-19 23:00\",\"2014-09-20 00:00\",\"2014-09-20 01:00\",\"2014-09-20 02:00\",\"2014-09-20 03:00\",\"2014-09-20 04:00\",\"2014-09-20 05:00\",\"2014-09-20 06:00\",\"2014-09-20 07:00\",\"2014-09-20 08:00\",\"2014-09-20 09:00\",\"2014-09-20 10:00\",\"2014-09-20 11:00\",\"2014-09-20 12:00\",\"2014-09-20 13:00\",\"2014-09-20 14:00\",\"2014-09-20 15:00\",\"2014-09-20 16:00\",\"2014-09-20 17:00\",\"2014-09-20 18:00\",\"2014-09-20 19:00\",\"2014-09-20 20:00\",\"2014-09-20 21:00\",\"2014-09-20 22:00\",\"2014-09-20 23:00\"],\"xaxis\":\"x\",\"y\":[2.8,5.6,2.6,0.2,0.2,0.0,0.0,0.0,0.0,0.0,0.0,0.0,0.0,0.0,0.0,0.0,0.0,0.0,0.0,0.0,0.0,0.0,0.0,0.0,0.0,0.0,0.6,0.0,0.2,0.0,0.0,0.0,0.0,0.0,0.0,0.0,0.0,0.0,0.0,0.0,0.0,0.0,0.0,0.0,0.0,0.0,0.0,0.0,0.0,0.0,0.4,0.0,0.2,0.2,0.4,0.0,0.8,0.2,0.2,0.0,0.4,0.0,0.2,0.0,0.0,0.0,0.0,0.0,0.0,0.0,0.0,0.0,0.0,0.0,0.4,0.0,0.0,0.0,0.2,0.0,0.0,0.0,0.0,0.0,0.0,0.0,0.0,0.0,0.0,0.0,0.0,0.0,0.0,0.0,0.0,0.2,0.0,0.0,0.8,0.0,0.0,0.0,0.0,0.0,0.2,0.0,0.0,0.0,0.0,0.0,0.0,0.0,0.0,0.0,0.0,0.0,0.0,0.0,0.0,0.0,0.0,0.0,0.2,0.2,0.0,0.0,0.0,0.0,0.0,0.0,0.0,0.0,0.0,0.0,0.0,0.0,0.0,0.0,0.0,0.0,0.0,0.0,0.0,0.0,0.0,0.0,0.4,0.2,0.0,0.0,0.0,0.0,0.0,0.0,0.0,0.0,0.0,0.0,0.0,0.0,0.0,0.0,0.0,0.0,0.0,0.0,0.0,0.0,0.0,0.0,0.0,0.0,0.0,0.0,0.0,0.0,0.2,0.0,0.0,0.0,0.0,0.0,0.0,0.0,0.0,0.0,0.0,0.0,0.0,0.0,0.0,0.0,0.0,0.0,0.0,0.0,0.0,0.0,0.0,0.0,0.0,0.0,0.0,0.0,0.0,0.0,0.0,0.0,0.0,0.0,0.0,0.0,0.0,0.0,25.8,2.8,3.0,3.2,0.6,0.0,11.4,1.6,0.8,0.0,0.0,0.0,0.0,0.2,0.0,0.0,0.0,0.0,0.0,0.0,0.0,0.0,0.0,0.0,0.0,0.0,0.0,0.8,23.2,4.0,0.2,0.0,0.2,0.0,0.0,0.0,0.0,0.0,0.0,0.0,0.0,0.0,0.0,0.0,0.0,0.0,0.0,2.6,0.2,0.0,0.8,2.2,1.0,0.0,0.0,0.0,0.0,0.0,0.2,0.0,0.0,0.0,0.0,0.0,0.0,0.0,0.0,0.0,0.0,0.0,0.0,0.0,0.8,0.0,0.0,0.0,0.0,0.0,0.0,0.0,0.0,0.0,0.0,0.0,0.0,0.0,0.0,0.0,0.0,0.0,0.0,0.0,0.0,0.0,0.0,0.0,0.0,0.0,0.0,0.0,0.0,0.0,0.0,0.0,0.0,0.0,0.0,0.0,0.0,0.0,0.0,0.0,0.0,0.0,0.0,0.0,0.0,0.0,0.0,0.0,0.0,0.0,0.0,0.0,0.0,0.0,0.0,0.0,0.0,0.0,0.0,0.0,0.0,0.0,0.0,0.0,0.0,0.0,0.0,0.0,0.0,0.0,0.0,0.0,0.0,0.0,0.0,0.0,0.0,0.0,0.0,0.0,0.0,0.0,0.0,0.0,0.0,0.0,0.0,0.0,0.0,0.0,0.0,0.0,0.0,0.0,0.0,0.0,0.0,0.0,0.0,0.0,0.0,0.0,0.0,0.0,0.0,0.0,0.0,0.0,0.0,0.0,0.0,0.0,0.0,0.0,0.0,0.0,0.0,0.0,0.0,0.0,0.0,0.0,0.0,0.0,0.0,0.0,0.0,0.0,0.0,0.0,0.0,0.0,0.0,0.0,0.0,0.0,0.0,0.0,0.0,0.0,0.0,0.0,0.0,0.0,0.0,0.0,0.0,0.0,0.0,0.0,0.0,0.0,0.0,0.0,0.0,0.0,0.0,0.0,0.0,0.0,0.0,0.0,0.0,0.0,0.0,0.0,0.0,0.0,0.0,0.0,0.0,0.0,0.0,0.0,0.0,0.2,0.2,0.0,0.0,0.2,0.0,0.0,0.0,0.0,0.4,1.0,0.0,0.0,0.0,0.0,0.0,0.0,0.0,0.0,0.0],\"yaxis\":\"y\",\"type\":\"scatter\"}],                        {\"template\":{\"data\":{\"bar\":[{\"error_x\":{\"color\":\"#2a3f5f\"},\"error_y\":{\"color\":\"#2a3f5f\"},\"marker\":{\"line\":{\"color\":\"#E5ECF6\",\"width\":0.5},\"pattern\":{\"fillmode\":\"overlay\",\"size\":10,\"solidity\":0.2}},\"type\":\"bar\"}],\"barpolar\":[{\"marker\":{\"line\":{\"color\":\"#E5ECF6\",\"width\":0.5},\"pattern\":{\"fillmode\":\"overlay\",\"size\":10,\"solidity\":0.2}},\"type\":\"barpolar\"}],\"carpet\":[{\"aaxis\":{\"endlinecolor\":\"#2a3f5f\",\"gridcolor\":\"white\",\"linecolor\":\"white\",\"minorgridcolor\":\"white\",\"startlinecolor\":\"#2a3f5f\"},\"baxis\":{\"endlinecolor\":\"#2a3f5f\",\"gridcolor\":\"white\",\"linecolor\":\"white\",\"minorgridcolor\":\"white\",\"startlinecolor\":\"#2a3f5f\"},\"type\":\"carpet\"}],\"choropleth\":[{\"colorbar\":{\"outlinewidth\":0,\"ticks\":\"\"},\"type\":\"choropleth\"}],\"contour\":[{\"colorbar\":{\"outlinewidth\":0,\"ticks\":\"\"},\"colorscale\":[[0.0,\"#0d0887\"],[0.1111111111111111,\"#46039f\"],[0.2222222222222222,\"#7201a8\"],[0.3333333333333333,\"#9c179e\"],[0.4444444444444444,\"#bd3786\"],[0.5555555555555556,\"#d8576b\"],[0.6666666666666666,\"#ed7953\"],[0.7777777777777778,\"#fb9f3a\"],[0.8888888888888888,\"#fdca26\"],[1.0,\"#f0f921\"]],\"type\":\"contour\"}],\"contourcarpet\":[{\"colorbar\":{\"outlinewidth\":0,\"ticks\":\"\"},\"type\":\"contourcarpet\"}],\"heatmap\":[{\"colorbar\":{\"outlinewidth\":0,\"ticks\":\"\"},\"colorscale\":[[0.0,\"#0d0887\"],[0.1111111111111111,\"#46039f\"],[0.2222222222222222,\"#7201a8\"],[0.3333333333333333,\"#9c179e\"],[0.4444444444444444,\"#bd3786\"],[0.5555555555555556,\"#d8576b\"],[0.6666666666666666,\"#ed7953\"],[0.7777777777777778,\"#fb9f3a\"],[0.8888888888888888,\"#fdca26\"],[1.0,\"#f0f921\"]],\"type\":\"heatmap\"}],\"heatmapgl\":[{\"colorbar\":{\"outlinewidth\":0,\"ticks\":\"\"},\"colorscale\":[[0.0,\"#0d0887\"],[0.1111111111111111,\"#46039f\"],[0.2222222222222222,\"#7201a8\"],[0.3333333333333333,\"#9c179e\"],[0.4444444444444444,\"#bd3786\"],[0.5555555555555556,\"#d8576b\"],[0.6666666666666666,\"#ed7953\"],[0.7777777777777778,\"#fb9f3a\"],[0.8888888888888888,\"#fdca26\"],[1.0,\"#f0f921\"]],\"type\":\"heatmapgl\"}],\"histogram\":[{\"marker\":{\"pattern\":{\"fillmode\":\"overlay\",\"size\":10,\"solidity\":0.2}},\"type\":\"histogram\"}],\"histogram2d\":[{\"colorbar\":{\"outlinewidth\":0,\"ticks\":\"\"},\"colorscale\":[[0.0,\"#0d0887\"],[0.1111111111111111,\"#46039f\"],[0.2222222222222222,\"#7201a8\"],[0.3333333333333333,\"#9c179e\"],[0.4444444444444444,\"#bd3786\"],[0.5555555555555556,\"#d8576b\"],[0.6666666666666666,\"#ed7953\"],[0.7777777777777778,\"#fb9f3a\"],[0.8888888888888888,\"#fdca26\"],[1.0,\"#f0f921\"]],\"type\":\"histogram2d\"}],\"histogram2dcontour\":[{\"colorbar\":{\"outlinewidth\":0,\"ticks\":\"\"},\"colorscale\":[[0.0,\"#0d0887\"],[0.1111111111111111,\"#46039f\"],[0.2222222222222222,\"#7201a8\"],[0.3333333333333333,\"#9c179e\"],[0.4444444444444444,\"#bd3786\"],[0.5555555555555556,\"#d8576b\"],[0.6666666666666666,\"#ed7953\"],[0.7777777777777778,\"#fb9f3a\"],[0.8888888888888888,\"#fdca26\"],[1.0,\"#f0f921\"]],\"type\":\"histogram2dcontour\"}],\"mesh3d\":[{\"colorbar\":{\"outlinewidth\":0,\"ticks\":\"\"},\"type\":\"mesh3d\"}],\"parcoords\":[{\"line\":{\"colorbar\":{\"outlinewidth\":0,\"ticks\":\"\"}},\"type\":\"parcoords\"}],\"pie\":[{\"automargin\":true,\"type\":\"pie\"}],\"scatter\":[{\"marker\":{\"colorbar\":{\"outlinewidth\":0,\"ticks\":\"\"}},\"type\":\"scatter\"}],\"scatter3d\":[{\"line\":{\"colorbar\":{\"outlinewidth\":0,\"ticks\":\"\"}},\"marker\":{\"colorbar\":{\"outlinewidth\":0,\"ticks\":\"\"}},\"type\":\"scatter3d\"}],\"scattercarpet\":[{\"marker\":{\"colorbar\":{\"outlinewidth\":0,\"ticks\":\"\"}},\"type\":\"scattercarpet\"}],\"scattergeo\":[{\"marker\":{\"colorbar\":{\"outlinewidth\":0,\"ticks\":\"\"}},\"type\":\"scattergeo\"}],\"scattergl\":[{\"marker\":{\"colorbar\":{\"outlinewidth\":0,\"ticks\":\"\"}},\"type\":\"scattergl\"}],\"scattermapbox\":[{\"marker\":{\"colorbar\":{\"outlinewidth\":0,\"ticks\":\"\"}},\"type\":\"scattermapbox\"}],\"scatterpolar\":[{\"marker\":{\"colorbar\":{\"outlinewidth\":0,\"ticks\":\"\"}},\"type\":\"scatterpolar\"}],\"scatterpolargl\":[{\"marker\":{\"colorbar\":{\"outlinewidth\":0,\"ticks\":\"\"}},\"type\":\"scatterpolargl\"}],\"scatterternary\":[{\"marker\":{\"colorbar\":{\"outlinewidth\":0,\"ticks\":\"\"}},\"type\":\"scatterternary\"}],\"surface\":[{\"colorbar\":{\"outlinewidth\":0,\"ticks\":\"\"},\"colorscale\":[[0.0,\"#0d0887\"],[0.1111111111111111,\"#46039f\"],[0.2222222222222222,\"#7201a8\"],[0.3333333333333333,\"#9c179e\"],[0.4444444444444444,\"#bd3786\"],[0.5555555555555556,\"#d8576b\"],[0.6666666666666666,\"#ed7953\"],[0.7777777777777778,\"#fb9f3a\"],[0.8888888888888888,\"#fdca26\"],[1.0,\"#f0f921\"]],\"type\":\"surface\"}],\"table\":[{\"cells\":{\"fill\":{\"color\":\"#EBF0F8\"},\"line\":{\"color\":\"white\"}},\"header\":{\"fill\":{\"color\":\"#C8D4E3\"},\"line\":{\"color\":\"white\"}},\"type\":\"table\"}]},\"layout\":{\"annotationdefaults\":{\"arrowcolor\":\"#2a3f5f\",\"arrowhead\":0,\"arrowwidth\":1},\"autotypenumbers\":\"strict\",\"coloraxis\":{\"colorbar\":{\"outlinewidth\":0,\"ticks\":\"\"}},\"colorscale\":{\"diverging\":[[0,\"#8e0152\"],[0.1,\"#c51b7d\"],[0.2,\"#de77ae\"],[0.3,\"#f1b6da\"],[0.4,\"#fde0ef\"],[0.5,\"#f7f7f7\"],[0.6,\"#e6f5d0\"],[0.7,\"#b8e186\"],[0.8,\"#7fbc41\"],[0.9,\"#4d9221\"],[1,\"#276419\"]],\"sequential\":[[0.0,\"#0d0887\"],[0.1111111111111111,\"#46039f\"],[0.2222222222222222,\"#7201a8\"],[0.3333333333333333,\"#9c179e\"],[0.4444444444444444,\"#bd3786\"],[0.5555555555555556,\"#d8576b\"],[0.6666666666666666,\"#ed7953\"],[0.7777777777777778,\"#fb9f3a\"],[0.8888888888888888,\"#fdca26\"],[1.0,\"#f0f921\"]],\"sequentialminus\":[[0.0,\"#0d0887\"],[0.1111111111111111,\"#46039f\"],[0.2222222222222222,\"#7201a8\"],[0.3333333333333333,\"#9c179e\"],[0.4444444444444444,\"#bd3786\"],[0.5555555555555556,\"#d8576b\"],[0.6666666666666666,\"#ed7953\"],[0.7777777777777778,\"#fb9f3a\"],[0.8888888888888888,\"#fdca26\"],[1.0,\"#f0f921\"]]},\"colorway\":[\"#636efa\",\"#EF553B\",\"#00cc96\",\"#ab63fa\",\"#FFA15A\",\"#19d3f3\",\"#FF6692\",\"#B6E880\",\"#FF97FF\",\"#FECB52\"],\"font\":{\"color\":\"#2a3f5f\"},\"geo\":{\"bgcolor\":\"white\",\"lakecolor\":\"white\",\"landcolor\":\"#E5ECF6\",\"showlakes\":true,\"showland\":true,\"subunitcolor\":\"white\"},\"hoverlabel\":{\"align\":\"left\"},\"hovermode\":\"closest\",\"mapbox\":{\"style\":\"light\"},\"paper_bgcolor\":\"white\",\"plot_bgcolor\":\"#E5ECF6\",\"polar\":{\"angularaxis\":{\"gridcolor\":\"white\",\"linecolor\":\"white\",\"ticks\":\"\"},\"bgcolor\":\"#E5ECF6\",\"radialaxis\":{\"gridcolor\":\"white\",\"linecolor\":\"white\",\"ticks\":\"\"}},\"scene\":{\"xaxis\":{\"backgroundcolor\":\"#E5ECF6\",\"gridcolor\":\"white\",\"gridwidth\":2,\"linecolor\":\"white\",\"showbackground\":true,\"ticks\":\"\",\"zerolinecolor\":\"white\"},\"yaxis\":{\"backgroundcolor\":\"#E5ECF6\",\"gridcolor\":\"white\",\"gridwidth\":2,\"linecolor\":\"white\",\"showbackground\":true,\"ticks\":\"\",\"zerolinecolor\":\"white\"},\"zaxis\":{\"backgroundcolor\":\"#E5ECF6\",\"gridcolor\":\"white\",\"gridwidth\":2,\"linecolor\":\"white\",\"showbackground\":true,\"ticks\":\"\",\"zerolinecolor\":\"white\"}},\"shapedefaults\":{\"line\":{\"color\":\"#2a3f5f\"}},\"ternary\":{\"aaxis\":{\"gridcolor\":\"white\",\"linecolor\":\"white\",\"ticks\":\"\"},\"baxis\":{\"gridcolor\":\"white\",\"linecolor\":\"white\",\"ticks\":\"\"},\"bgcolor\":\"#E5ECF6\",\"caxis\":{\"gridcolor\":\"white\",\"linecolor\":\"white\",\"ticks\":\"\"}},\"title\":{\"x\":0.05},\"xaxis\":{\"automargin\":true,\"gridcolor\":\"white\",\"linecolor\":\"white\",\"ticks\":\"\",\"title\":{\"standoff\":15},\"zerolinecolor\":\"white\",\"zerolinewidth\":2},\"yaxis\":{\"automargin\":true,\"gridcolor\":\"white\",\"linecolor\":\"white\",\"ticks\":\"\",\"title\":{\"standoff\":15},\"zerolinecolor\":\"white\",\"zerolinewidth\":2}}},\"xaxis\":{\"anchor\":\"y\",\"domain\":[0.0,1.0],\"title\":{\"text\":\"data\"},\"rangeslider\":{\"visible\":true}},\"yaxis\":{\"anchor\":\"x\",\"domain\":[0.0,1.0],\"title\":{\"text\":\"precipitazione [mm]\"}},\"legend\":{\"tracegroupgap\":0},\"title\":{\"text\":\"Precipitazioni\"}},                        {\"responsive\": true}                    ).then(function(){\n",
       "                            \n",
       "var gd = document.getElementById('e5285fd0-b73d-4858-9669-38aabd3abf49');\n",
       "var x = new MutationObserver(function (mutations, observer) {{\n",
       "        var display = window.getComputedStyle(gd).display;\n",
       "        if (!display || display === 'none') {{\n",
       "            console.log([gd, 'removed!']);\n",
       "            Plotly.purge(gd);\n",
       "            observer.disconnect();\n",
       "        }}\n",
       "}});\n",
       "\n",
       "// Listen for the removal of the full notebook cells\n",
       "var notebookContainer = gd.closest('#notebook-container');\n",
       "if (notebookContainer) {{\n",
       "    x.observe(notebookContainer, {childList: true});\n",
       "}}\n",
       "\n",
       "// Listen for the clearing of the current output cell\n",
       "var outputEl = gd.closest('.output');\n",
       "if (outputEl) {{\n",
       "    x.observe(outputEl, {childList: true});\n",
       "}}\n",
       "\n",
       "                        })                };                });            </script>        </div>"
      ]
     },
     "metadata": {},
     "output_type": "display_data"
    }
   ],
   "source": [
    "data = pd.read_csv('dati pluviometrici.csv',sep=',',usecols=[1,2])\n",
    "import plotly.express as px\n",
    "%matplotlib inline \n",
    "\n",
    "fig = px.line(data,x='data', y='precipitazione [mm]',title='Precipitazioni') \n",
    "fig.update_xaxes(rangeslider_visible=True)\n",
    "fig.show()"
   ]
  },
  {
   "cell_type": "markdown",
   "id": "db98c7ee-5f0c-4748-8f4d-358ab9144e32",
   "metadata": {},
   "source": [
    "#### Grafici 2-D"
   ]
  },
  {
   "cell_type": "code",
   "execution_count": 21,
   "id": "2b676748-c176-4fb3-b90d-3a9c0f3471ff",
   "metadata": {},
   "outputs": [
    {
     "data": {
      "image/png": "[encoded data removed]",
      "text/plain": [
       "<Figure size 1152x533.993 with 2 Axes>"
      ]
     },
     "metadata": {
      "needs_background": "light"
     },
     "output_type": "display_data"
    }
   ],
   "source": [
    "# Variazione della suzione nel tempo \n",
    "\n",
    "fig, ax = plt.subplots(1, 1, figsize=(16,12/1.618)) \n",
    "norm = matplotlib.colors.Normalize(vmin=np.amin(ds3.psi.values), vmax=np.amax(ds3.psi.values))\n",
    "ds3.psi.plot(ax=ax, y='depth',add_colorbar=True, cmap=my_cmap, norm=norm, cbar_kwargs={'label': '$\\psi$ [m]'})\n",
    "\n",
    "ax.set_title('Andamento della suzione al variare della profondità', size=20)\n",
    "ax.set_ylabel('Profondità [m]')\n",
    "ax.set_xlabel('Serie Temporale [dd:hh:mm]')\n",
    "ax.xaxis.set_major_formatter(mdates.DateFormatter('%d-%H:%M')) \n",
    "ax.xaxis.set_tick_params(rotation=20)\n",
    "\n",
    "plt.tight_layout()\n",
    "plt.show()"
   ]
  },
  {
   "cell_type": "markdown",
   "id": "66bb2479-c141-42f5-9c88-4c0a8394ca58",
   "metadata": {},
   "source": [
    "**Commenti al grafico**\n",
    "\n",
    "Nel seguente grafico si osserva come l'elevata intensità della precipitazione svilupattasi alle ore 21:00 del 09/09/2014 faccia passare il suolo da una condizione pressochè secca ($\\psi$ = 4.5) ad una condizione molto vicina alla saturazione (passaggio dal \n",
    "beige al blu).\n",
    "\n",
    "Si denota inoltre come tutte le precipitazioni con un'intensità rilevante causino un aumento della suzione in prossimità della superficie (colore blu intenso).\n",
    "\n",
    "Allo scorrere del tempo si nota un approfondimento del fronte di saturazione e, cessata la precipitazione, una diminuzione della lama d'acqua superficiale.\n",
    "\n",
    "E' importante evidenziare come al fondo sia stata posta una condizione al contorno di dirichlet con una suzione pari a -3.0.\n",
    "\n",
    "---"
   ]
  },
  {
   "cell_type": "code",
   "execution_count": 22,
   "id": "7a82a1f2-fde8-448c-b5fe-806d85fdf09a",
   "metadata": {},
   "outputs": [
    {
     "data": {
      "image/png": "[encoded data removed]",
      "text/plain": [
       "<Figure size 1152x533.993 with 2 Axes>"
      ]
     },
     "metadata": {
      "needs_background": "light"
     },
     "output_type": "display_data"
    }
   ],
   "source": [
    "# Variazione del contenuto d'acqua nel tempo \n",
    "\n",
    "fig, ax = plt.subplots(1, 1, figsize=(16,12/1.618)) \n",
    "norm = matplotlib.colors.Normalize(vmin=np.amin(ds3.theta.values), vmax=np.amax(ds3.theta.values))\n",
    "ds3.theta.plot(ax=ax, y='depth',add_colorbar=True, cmap=my_cmap, norm=norm, cbar_kwargs={'label': '$\\\\theta$ [m]'})\n",
    "\n",
    "ax.set_title('Andamento di $\\\\theta$ al variare della profondità', size=20)\n",
    "ax.set_ylabel('Profondità [m]')\n",
    "ax.set_xlabel('Serie Temporale [dd:hh:mm]')\n",
    "ax.xaxis.set_major_formatter(mdates.DateFormatter('%d-%H:%M'))\n",
    "ax.xaxis.set_tick_params(rotation=25)\n",
    "\n",
    "plt.tight_layout()\n",
    "plt.show()"
   ]
  },
  {
   "cell_type": "markdown",
   "id": "28e924dc-35cf-44f4-9a6e-b3834b21bb68",
   "metadata": {},
   "source": [
    "**Commenti al grafico**\n",
    "\n",
    "Nel grafico seguente si osserva che nel momento di precipitazione il contenuto d'acqua negli strati più superficiali aumenta repentinamente fino a raggiungere valori prossimi alla saturazione.\n",
    "\n",
    "Cessato l'evento di precipitazione si denota una diminuzione del contenuto d'acqua in superficie e un conseguente approfondimento del profilo d'infiltrazione della lama d'acqua evidenziato da una variazione di tonalità del colore originario.\n",
    "\n",
    "La somma dei vari profili d'infiltrazione, causati dagli eventi di precipitazione, genera in corrispondenza del cambio di strato una zona con contenuto d'acqua prossimo a saturazione (falda in profondità). Tale condizione è favorita dalla presenza di uno strato contraddistinto da una bassa permeabilità.\n",
    "\n",
    "---"
   ]
  },
  {
   "cell_type": "markdown",
   "id": "c798825c-50ae-4352-9117-f90a1a1d732b",
   "metadata": {},
   "source": [
    "#### Grafici 1-D"
   ]
  },
  {
   "cell_type": "code",
   "execution_count": 23,
   "id": "6b547a5e-1c0c-47bb-aabe-f7f0c34f1c6f",
   "metadata": {},
   "outputs": [
    {
     "data": {
      "image/png": "[encoded data removed]",
      "text/plain": [
       "<Figure size 1080x533.993 with 2 Axes>"
      ]
     },
     "metadata": {
      "needs_background": "light"
     },
     "output_type": "display_data"
    }
   ],
   "source": [
    "# Profilo della suzione e del contenuto d'acqua a diverse profondità\n",
    "\n",
    "fig, (ax1, ax2) = plt.subplots(1, 2, figsize=(15, 12/1.618)) \n",
    "\n",
    "ds3.psi.sel(depth=-0.1, method='nearest').plot(ax=ax1, color=colors[0])\n",
    "ds3.psi.sel(depth=-0.3, method='nearest').plot(ax=ax1, color=colors[1])\n",
    "ds3.psi.sel(depth=-0.5, method='nearest').plot(ax=ax1, color=colors[2])\n",
    "ds3.psi.sel(depth=-0.9, method='nearest').plot(ax=ax1, color=colors[3])\n",
    "ds3.psi.sel(depth=-1.3, method='nearest').plot(ax=ax1, color=colors[4])\n",
    "\n",
    "ax1.set_title ('$\\psi$ al variare del tempo \\n a diverse profondità', size=20)\n",
    "ax1.set_ylabel('$\\psi$ [m]')\n",
    "ax1.set_xlabel('Tempo [dd-hh:mm]')\n",
    "ax1.xaxis.set_major_formatter(mdates.DateFormatter('%d-%H:%M'))\n",
    "ax1.xaxis.set_tick_params(rotation=40)\n",
    "\n",
    "ds3.theta.sel(depth=-0.1, method='nearest').plot(ax=ax2, label = '-0.1 m', color=colors[0])\n",
    "ds3.theta.sel(depth=-0.3, method='nearest').plot(ax=ax2, label = '-0.3 m', color=colors[1])\n",
    "ds3.theta.sel(depth=-0.5, method='nearest').plot(ax=ax2, label = '-0.5 m', color=colors[2])\n",
    "ds3.theta.sel(depth=-0.9, method='nearest').plot(ax=ax2, label = '-0.9 m', color=colors[3])\n",
    "ds3.theta.sel(depth=-1.3, method='nearest').plot(ax=ax2, label = '-1.3 m', color=colors[4])\n",
    "\n",
    "ax2.set_title('$\\\\theta$ al variare del tempo \\n a diverse profondità', size=20)\n",
    "ax2.set_ylabel('$\\\\theta$ [-]')\n",
    "ax2.set_xlabel('Tempo [dd-hh:mm]')\n",
    "ax2.xaxis.set_major_formatter(mdates.DateFormatter('%d-%H:%M'))\n",
    "ax2.xaxis.set_tick_params(rotation=40)\n",
    "ax2.legend(bbox_to_anchor=(1.01,0.7), ncol=1, title='Profondità')\n",
    "\n",
    "plt.tight_layout()\n",
    "plt.show()"
   ]
  },
  {
   "cell_type": "markdown",
   "id": "19d2b1ac-ed8e-4d19-8b08-1d9fdce413a7",
   "metadata": {},
   "source": [
    "**Commenti ai grafici**\n",
    "\n",
    "Nei seguenti grafici si osserva un legame diretto tra precipitazione e parametri del suolo (suzione e  contenuto d'acqua) :\n",
    "infatti al manifestarsi di un evento di precipitazione si evidenzia un aumento abbastanza repentino di $\\psi$ e $\\theta$; al contrario, al cessare della precipitazione si ha una diminuzione di tali parametri.\n",
    "\n",
    "L'aumento di tali parametri fino a valori prossimi alla saturazione non avviene in contemporanea alle diverse profondità dello strato di sabbia a causa delle fisiologiche tempestiche del fenomeno dell'infiltrazione.\n",
    "\n",
    "In corrispondenza degli strati più profondi (-0.9 e -1.3 m), nelle tempestiche analizzate, i diversi eventi di precipitazione non influenzano tali strati a causa della loro bassa permeabilità. Tale affermazione è evidente in entrambi i grafici.\n",
    "\n",
    "---"
   ]
  },
  {
   "cell_type": "code",
   "execution_count": 24,
   "id": "b99cbe5a-adc7-476e-81ef-557af28d48b2",
   "metadata": {},
   "outputs": [
    {
     "data": {
      "image/png": "[encoded data removed]",
      "text/plain": [
       "<Figure size 1080x578.492 with 2 Axes>"
      ]
     },
     "metadata": {
      "needs_background": "light"
     },
     "output_type": "display_data"
    }
   ],
   "source": [
    "# Profilo della suzione e del contenuto d'acqua a diversi istanti temporali\n",
    "\n",
    "fig, (ax1, ax2) = plt.subplots(1, 2, sharey='row', figsize=(15, 13/1.618)) \n",
    "\n",
    "ds3.psiIC.plot(ax=ax1, y='depth', label='Condizioni iniziali', color='0.3')\n",
    "ds3.psi.sel(time='2014-09-09 18:00').plot(ax=ax1, y='depth', label='2014-09-09 18:00', color=colors[0])\n",
    "ds3.psi.sel(time='2014-09-09 23:00').plot(ax=ax1, y='depth', label='2014-09-09 23:00', color=colors[1])\n",
    "ds3.psi.sel(time='2014-09-10 05:00').plot(ax=ax1, y='depth', label='2014-09-10 05:00', color=colors[2])\n",
    "ds3.psi.sel(time='2014-09-10 21:00').plot(ax=ax1, y='depth', label='2014-09-10 21:00', color=colors[3])\n",
    "ds3.psi.sel(time='2014-09-11 07:00').plot(ax=ax1, y='depth', label='2014-09-11 07:00', color=colors[4])\n",
    "ds3.psi.sel(time='2014-09-11 17:00').plot(ax=ax1, y='depth', label='2014-09-11 17:00', color=colors[5])\n",
    "ds3.psi.sel(time='2014-09-12 05:00').plot(ax=ax1, y='depth', label='2014-09-12 05:00', color=colors[6])\n",
    "\n",
    "ax1.set_title('$\\psi$ al variare della profondità \\n a diversi istanti di tempo', size=20)\n",
    "ax1.set_ylabel('Profondità [m]')\n",
    "ax1.set_xlabel('$\\psi$ [m]')\n",
    "\n",
    "plt.plot(np.nan, np.nan, label='Condizioni iniali', color='0.3')\n",
    "ds3.theta.sel(time='2014-09-09 18:00').plot(ax=ax2, y='depth', label='2014-09-09 18:00', color=colors[0])\n",
    "ds3.theta.sel(time='2014-09-09 23:00').plot(ax=ax2, y='depth', label='2014-09-09 23:00', color=colors[1])\n",
    "ds3.theta.sel(time='2014-09-10 05:00').plot(ax=ax2, y='depth', label='2014-09-10 05:00', color=colors[2])\n",
    "ds3.theta.sel(time='2014-09-10 21:00').plot(ax=ax2, y='depth', label='2014-09-10 21:00', color=colors[3])\n",
    "ds3.theta.sel(time='2014-09-11 07:00').plot(ax=ax2, y='depth', label='2014-09-11 07:00', color=colors[4])\n",
    "ds3.theta.sel(time='2014-09-11 17:00').plot(ax=ax2, y='depth', label='2014-09-11 17:00', color=colors[5])\n",
    "ds3.theta.sel(time='2014-09-12 05:00').plot(ax=ax2, y='depth', label='2014-09-12 05:00', color=colors[6])\n",
    "\n",
    "ax2.set_title('$\\\\theta$ al variare della profondità \\na diversi istanti temporali', size=20)\n",
    "ax2.set_ylabel('')\n",
    "ax2.set_xlabel('$\\\\theta$ [-]')\n",
    "ax1.legend(bbox_to_anchor=(1.1,0.75), ncol=1, title='Tempo')\n",
    "\n",
    "plt.tight_layout()\n",
    "plt.show()"
   ]
  },
  {
   "cell_type": "markdown",
   "id": "75379192-0ec1-4e6f-963f-da2b5aa0b82d",
   "metadata": {},
   "source": [
    "**Commenti ai grafici**\n",
    "\n",
    "Nel grafico sovrastante relativo alla suzione si osserva come la condizione iniziale sia idrostica, poichè vi è una relazione diretta tra suzione e profondità (retta).\n",
    "Inoltre si nota come a diversi istanti temporali successivi il fronte di saturazione si approfondisce (abbassamento delle curve).\n",
    "\n",
    "Nel grafico relativo al contenuto d'acqua si osserva invece che alla profondità coincidente al cambio di strato si ha un salto di tale parametro.\n",
    "\n",
    "Nel grafico del contenuto d'acqua si osserva un elevata variabilità di tale parametro nello strato più superficiale a causa delle caratteristiche del suolo e della precitazione (intensità e distribuzione temporale).\n",
    "\n",
    "Da tali grafici si evidenzia l'assenza di ponding poichè la suzione non presenta valori positivi. L'assenza di tale fenomeno è causata principalmente dall'elevata conducibilità idraulica dello strato di sabbia, che predilige il fenomeno d'infiltrazione a cospetto di quello del deflusso superficiale.\n",
    "\n",
    "---"
   ]
  },
  {
   "cell_type": "code",
   "execution_count": 25,
   "id": "0ea0f246-4b40-4457-8e9b-a9ee4d5f7a6a",
   "metadata": {},
   "outputs": [
    {
     "data": {
      "image/png": "[encoded data removed]",
      "text/plain": [
       "<Figure size 1080x578.492 with 1 Axes>"
      ]
     },
     "metadata": {
      "needs_background": "light"
     },
     "output_type": "display_data"
    }
   ],
   "source": [
    "#Profilo dei flussi di darcy al variare della profondità a diversi istanti temporali\n",
    "\n",
    "fig, ax = plt.subplots(1, 1, sharey='row', figsize=(15, 13/1.618)) \n",
    "\n",
    "ds3.darcyVelocity.sel(time='2014-09-09 18:00').plot(ax=ax, y='dualDepth', label='2014-09-09 18:00', color=colors[0])\n",
    "ds3.darcyVelocity.sel(time='2014-09-09 23:00').plot(ax=ax, y='dualDepth', label='2014-09-09 23:00', color=colors[1])\n",
    "ds3.darcyVelocity.sel(time='2014-09-10 05:00').plot(ax=ax, y='dualDepth', label='2014-09-10 05:00', color=colors[2])\n",
    "ds3.darcyVelocity.sel(time='2014-09-10 21:00').plot(ax=ax, y='dualDepth', label='2014-09-10 21:00', color=colors[3])\n",
    "ds3.darcyVelocity.sel(time='2014-09-11 07:00').plot(ax=ax, y='dualDepth', label='2014-09-11 07:00', color=colors[4])\n",
    "ds3.darcyVelocity.sel(time='2014-09-11 17:00').plot(ax=ax, y='dualDepth', label='2014-09-11 17:00', color=colors[5])\n",
    "ds3.darcyVelocity.sel(time='2014-09-12 05:00').plot(ax=ax, y='dualDepth', label='2014-09-12 05:00', color=colors[6])\n",
    "\n",
    "ax.set_title('Flussi di darcy al variare della profondità \\n a diversi istanti di tempo', size=20)\n",
    "ax.set_ylabel('Profondità [m]')\n",
    "ax.set_xlabel('Flussi di Darcy [m/s]')\n",
    "ax.legend(bbox_to_anchor=(1.01,0.7), ncol=1, title=\"Tempo\")\n",
    "\n",
    "plt.tight_layout()\n",
    "plt.show()"
   ]
  },
  {
   "cell_type": "markdown",
   "id": "dcc1c745-6c14-4370-88f6-6aa4b74b894a",
   "metadata": {},
   "source": [
    "**Commenti al grafico**\n",
    "\n",
    "Nel grafico seguente si osserva un legame tra i flussi di Darcy e gli eventi di precipitazione : la precipitazione causa un aumento del fenomeno d'infiltrazione visibile nel grafico con un aumento della variabilità dei flussi.\n",
    "\n",
    "---"
   ]
  },
  {
   "cell_type": "code",
   "execution_count": null,
   "id": "86c61dca-7634-4865-a3df-107cecfb37a5",
   "metadata": {},
   "outputs": [],
   "source": []
  }
 ],
 "metadata": {
  "kernelspec": {
   "display_name": "Python 3 (ipykernel)",
   "language": "python",
   "name": "python3"
  },
  "language_info": {
   "codemirror_mode": {
    "name": "ipython",
    "version": 3
   },
   "file_extension": ".py",
   "mimetype": "text/x-python",
   "name": "python",
   "nbconvert_exporter": "python",
   "pygments_lexer": "ipython3",
   "version": "3.7.12"
  }
 },
 "nbformat": 4,
 "nbformat_minor": 5
}
